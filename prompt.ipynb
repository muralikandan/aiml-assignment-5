{
  "cells": [
    {
      "cell_type": "markdown",
      "metadata": {
        "id": "view-in-github",
        "colab_type": "text"
      },
      "source": [
        "<a href=\"https://colab.research.google.com/github/muralikandan/aiml-assignment-5/blob/main/prompt.ipynb\" target=\"_parent\"><img src=\"https://colab.research.google.com/assets/colab-badge.svg\" alt=\"Open In Colab\"/></a>"
      ]
    },
    {
      "cell_type": "markdown",
      "metadata": {
        "id": "wjG0meNw9f5h"
      },
      "source": [
        "### Will a Customer Accept the Coupon?\n",
        "\n",
        "**Context**\n",
        "\n",
        "Imagine driving through town and a coupon is delivered to your cell phone for a restaraunt near where you are driving. Would you accept that coupon and take a short detour to the restaraunt? Would you accept the coupon but use it on a sunbsequent trip? Would you ignore the coupon entirely? What if the coupon was for a bar instead of a restaraunt? What about a coffee house? Would you accept a bar coupon with a minor passenger in the car? What about if it was just you and your partner in the car? Would weather impact the rate of acceptance? What about the time of day?\n",
        "\n",
        "Obviously, proximity to the business is a factor on whether the coupon is delivered to the driver or not, but what are the factors that determine whether a driver accepts the coupon once it is delivered to them? How would you determine whether a driver is likely to accept a coupon?\n",
        "\n",
        "**Overview**\n",
        "\n",
        "The goal of this project is to use what you know about visualizations and probability distributions to distinguish between customers who accepted a driving coupon versus those that did not.\n",
        "\n",
        "**Data**\n",
        "\n",
        "This data comes to us from the UCI Machine Learning repository and was collected via a survey on Amazon Mechanical Turk. The survey describes different driving scenarios including the destination, current time, weather, passenger, etc., and then ask the person whether he will accept the coupon if he is the driver. Answers that the user will drive there ‘right away’ or ‘later before the coupon expires’ are labeled as ‘Y = 1’ and answers ‘no, I do not want the coupon’ are labeled as ‘Y = 0’.  There are five different types of coupons -- less expensive restaurants (under \\\\$20), coffee houses, carry out & take away, bar, and more expensive restaurants (\\\\$20 - \\\\$50)."
      ]
    },
    {
      "cell_type": "markdown",
      "metadata": {
        "id": "ovV14_HT9f5l"
      },
      "source": [
        "**Deliverables**\n",
        "\n",
        "Your final product should be a brief report that highlights the differences between customers who did and did not accept the coupons.  To explore the data you will utilize your knowledge of plotting, statistical summaries, and visualization using Python. You will publish your findings in a public facing github repository as your first portfolio piece.\n",
        "\n",
        "\n",
        "\n"
      ]
    },
    {
      "cell_type": "markdown",
      "metadata": {
        "id": "pLxtJ6dn9f5m"
      },
      "source": [
        "### Data Description\n",
        "Keep in mind that these values mentioned below are average values.\n",
        "\n",
        "The attributes of this data set include:\n",
        "1. User attributes\n",
        "    -  Gender: male, female\n",
        "    -  Age: below 21, 21 to 25, 26 to 30, etc.\n",
        "    -  Marital Status: single, married partner, unmarried partner, or widowed\n",
        "    -  Number of children: 0, 1, or more than 1\n",
        "    -  Education: high school, bachelors degree, associates degree, or graduate degree\n",
        "    -  Occupation: architecture & engineering, business & financial, etc.\n",
        "    -  Annual income: less than \\\\$12500, \\\\$12500 - \\\\$24999, \\\\$25000 - \\\\$37499, etc.\n",
        "    -  Number of times that he/she goes to a bar: 0, less than 1, 1 to 3, 4 to 8 or greater than 8\n",
        "    -  Number of times that he/she buys takeaway food: 0, less than 1, 1 to 3, 4 to 8 or greater\n",
        "    than 8\n",
        "    -  Number of times that he/she goes to a coffee house: 0, less than 1, 1 to 3, 4 to 8 or\n",
        "    greater than 8\n",
        "    -  Number of times that he/she eats at a restaurant with average expense less than \\\\$20 per\n",
        "    person: 0, less than 1, 1 to 3, 4 to 8 or greater than 8\n",
        "    -  Number of times that he/she goes to a bar: 0, less than 1, 1 to 3, 4 to 8 or greater than 8\n",
        "    \n",
        "\n",
        "2. Contextual attributes\n",
        "    - Driving destination: home, work, or no urgent destination\n",
        "    - Location of user, coupon and destination: we provide a map to show the geographical\n",
        "    location of the user, destination, and the venue, and we mark the distance between each\n",
        "    two places with time of driving. The user can see whether the venue is in the same\n",
        "    direction as the destination.\n",
        "    - Weather: sunny, rainy, or snowy\n",
        "    - Temperature: 30F, 55F, or 80F\n",
        "    - Time: 10AM, 2PM, or 6PM\n",
        "    - Passenger: alone, partner, kid(s), or friend(s)\n",
        "\n",
        "\n",
        "3. Coupon attributes\n",
        "    - time before it expires: 2 hours or one day"
      ]
    },
    {
      "cell_type": "code",
      "execution_count": null,
      "metadata": {
        "id": "-Uh2QZUz9f5o"
      },
      "outputs": [],
      "source": [
        "import matplotlib.pyplot as plt\n",
        "import seaborn as sns\n",
        "import pandas as pd\n",
        "import numpy as np\n",
        "import plotly.express as px"
      ]
    },
    {
      "cell_type": "markdown",
      "metadata": {
        "id": "hExfQrd_9f5p"
      },
      "source": [
        "### Problems\n",
        "\n",
        "Use the prompts below to get started with your data analysis.  \n",
        "\n",
        "1. Read in the `coupons.csv` file.\n",
        "\n",
        "\n"
      ]
    },
    {
      "cell_type": "code",
      "execution_count": null,
      "metadata": {
        "id": "RDJDZPuY9f5q"
      },
      "outputs": [],
      "source": [
        "data = pd.read_csv('data/coupons.csv')"
      ]
    },
    {
      "cell_type": "code",
      "execution_count": null,
      "metadata": {
        "colab": {
          "base_uri": "https://localhost:8080/",
          "height": 342
        },
        "id": "XVGAr7YE9f5q",
        "outputId": "e7ca8108-3bc0-4ce8-a312-391b1205152c"
      },
      "outputs": [
        {
          "output_type": "execute_result",
          "data": {
            "text/plain": [
              "       destination  passanger weather  temperature  time  \\\n",
              "0  No Urgent Place      Alone   Sunny           55   2PM   \n",
              "1  No Urgent Place  Friend(s)   Sunny           80  10AM   \n",
              "2  No Urgent Place  Friend(s)   Sunny           80  10AM   \n",
              "3  No Urgent Place  Friend(s)   Sunny           80   2PM   \n",
              "4  No Urgent Place  Friend(s)   Sunny           80   2PM   \n",
              "\n",
              "                  coupon expiration  gender age      maritalStatus  ...  \\\n",
              "0        Restaurant(<20)         1d  Female  21  Unmarried partner  ...   \n",
              "1           Coffee House         2h  Female  21  Unmarried partner  ...   \n",
              "2  Carry out & Take away         2h  Female  21  Unmarried partner  ...   \n",
              "3           Coffee House         2h  Female  21  Unmarried partner  ...   \n",
              "4           Coffee House         1d  Female  21  Unmarried partner  ...   \n",
              "\n",
              "   CoffeeHouse CarryAway RestaurantLessThan20 Restaurant20To50  \\\n",
              "0        never       NaN                  4~8              1~3   \n",
              "1        never       NaN                  4~8              1~3   \n",
              "2        never       NaN                  4~8              1~3   \n",
              "3        never       NaN                  4~8              1~3   \n",
              "4        never       NaN                  4~8              1~3   \n",
              "\n",
              "  toCoupon_GEQ5min toCoupon_GEQ15min toCoupon_GEQ25min direction_same  \\\n",
              "0                1                 0                 0              0   \n",
              "1                1                 0                 0              0   \n",
              "2                1                 1                 0              0   \n",
              "3                1                 1                 0              0   \n",
              "4                1                 1                 0              0   \n",
              "\n",
              "  direction_opp  Y  \n",
              "0             1  1  \n",
              "1             1  0  \n",
              "2             1  1  \n",
              "3             1  0  \n",
              "4             1  0  \n",
              "\n",
              "[5 rows x 26 columns]"
            ],
            "text/html": [
              "\n",
              "  <div id=\"df-dd06c28f-3128-4213-9086-835ea98ed870\" class=\"colab-df-container\">\n",
              "    <div>\n",
              "<style scoped>\n",
              "    .dataframe tbody tr th:only-of-type {\n",
              "        vertical-align: middle;\n",
              "    }\n",
              "\n",
              "    .dataframe tbody tr th {\n",
              "        vertical-align: top;\n",
              "    }\n",
              "\n",
              "    .dataframe thead th {\n",
              "        text-align: right;\n",
              "    }\n",
              "</style>\n",
              "<table border=\"1\" class=\"dataframe\">\n",
              "  <thead>\n",
              "    <tr style=\"text-align: right;\">\n",
              "      <th></th>\n",
              "      <th>destination</th>\n",
              "      <th>passanger</th>\n",
              "      <th>weather</th>\n",
              "      <th>temperature</th>\n",
              "      <th>time</th>\n",
              "      <th>coupon</th>\n",
              "      <th>expiration</th>\n",
              "      <th>gender</th>\n",
              "      <th>age</th>\n",
              "      <th>maritalStatus</th>\n",
              "      <th>...</th>\n",
              "      <th>CoffeeHouse</th>\n",
              "      <th>CarryAway</th>\n",
              "      <th>RestaurantLessThan20</th>\n",
              "      <th>Restaurant20To50</th>\n",
              "      <th>toCoupon_GEQ5min</th>\n",
              "      <th>toCoupon_GEQ15min</th>\n",
              "      <th>toCoupon_GEQ25min</th>\n",
              "      <th>direction_same</th>\n",
              "      <th>direction_opp</th>\n",
              "      <th>Y</th>\n",
              "    </tr>\n",
              "  </thead>\n",
              "  <tbody>\n",
              "    <tr>\n",
              "      <th>0</th>\n",
              "      <td>No Urgent Place</td>\n",
              "      <td>Alone</td>\n",
              "      <td>Sunny</td>\n",
              "      <td>55</td>\n",
              "      <td>2PM</td>\n",
              "      <td>Restaurant(&lt;20)</td>\n",
              "      <td>1d</td>\n",
              "      <td>Female</td>\n",
              "      <td>21</td>\n",
              "      <td>Unmarried partner</td>\n",
              "      <td>...</td>\n",
              "      <td>never</td>\n",
              "      <td>NaN</td>\n",
              "      <td>4~8</td>\n",
              "      <td>1~3</td>\n",
              "      <td>1</td>\n",
              "      <td>0</td>\n",
              "      <td>0</td>\n",
              "      <td>0</td>\n",
              "      <td>1</td>\n",
              "      <td>1</td>\n",
              "    </tr>\n",
              "    <tr>\n",
              "      <th>1</th>\n",
              "      <td>No Urgent Place</td>\n",
              "      <td>Friend(s)</td>\n",
              "      <td>Sunny</td>\n",
              "      <td>80</td>\n",
              "      <td>10AM</td>\n",
              "      <td>Coffee House</td>\n",
              "      <td>2h</td>\n",
              "      <td>Female</td>\n",
              "      <td>21</td>\n",
              "      <td>Unmarried partner</td>\n",
              "      <td>...</td>\n",
              "      <td>never</td>\n",
              "      <td>NaN</td>\n",
              "      <td>4~8</td>\n",
              "      <td>1~3</td>\n",
              "      <td>1</td>\n",
              "      <td>0</td>\n",
              "      <td>0</td>\n",
              "      <td>0</td>\n",
              "      <td>1</td>\n",
              "      <td>0</td>\n",
              "    </tr>\n",
              "    <tr>\n",
              "      <th>2</th>\n",
              "      <td>No Urgent Place</td>\n",
              "      <td>Friend(s)</td>\n",
              "      <td>Sunny</td>\n",
              "      <td>80</td>\n",
              "      <td>10AM</td>\n",
              "      <td>Carry out &amp; Take away</td>\n",
              "      <td>2h</td>\n",
              "      <td>Female</td>\n",
              "      <td>21</td>\n",
              "      <td>Unmarried partner</td>\n",
              "      <td>...</td>\n",
              "      <td>never</td>\n",
              "      <td>NaN</td>\n",
              "      <td>4~8</td>\n",
              "      <td>1~3</td>\n",
              "      <td>1</td>\n",
              "      <td>1</td>\n",
              "      <td>0</td>\n",
              "      <td>0</td>\n",
              "      <td>1</td>\n",
              "      <td>1</td>\n",
              "    </tr>\n",
              "    <tr>\n",
              "      <th>3</th>\n",
              "      <td>No Urgent Place</td>\n",
              "      <td>Friend(s)</td>\n",
              "      <td>Sunny</td>\n",
              "      <td>80</td>\n",
              "      <td>2PM</td>\n",
              "      <td>Coffee House</td>\n",
              "      <td>2h</td>\n",
              "      <td>Female</td>\n",
              "      <td>21</td>\n",
              "      <td>Unmarried partner</td>\n",
              "      <td>...</td>\n",
              "      <td>never</td>\n",
              "      <td>NaN</td>\n",
              "      <td>4~8</td>\n",
              "      <td>1~3</td>\n",
              "      <td>1</td>\n",
              "      <td>1</td>\n",
              "      <td>0</td>\n",
              "      <td>0</td>\n",
              "      <td>1</td>\n",
              "      <td>0</td>\n",
              "    </tr>\n",
              "    <tr>\n",
              "      <th>4</th>\n",
              "      <td>No Urgent Place</td>\n",
              "      <td>Friend(s)</td>\n",
              "      <td>Sunny</td>\n",
              "      <td>80</td>\n",
              "      <td>2PM</td>\n",
              "      <td>Coffee House</td>\n",
              "      <td>1d</td>\n",
              "      <td>Female</td>\n",
              "      <td>21</td>\n",
              "      <td>Unmarried partner</td>\n",
              "      <td>...</td>\n",
              "      <td>never</td>\n",
              "      <td>NaN</td>\n",
              "      <td>4~8</td>\n",
              "      <td>1~3</td>\n",
              "      <td>1</td>\n",
              "      <td>1</td>\n",
              "      <td>0</td>\n",
              "      <td>0</td>\n",
              "      <td>1</td>\n",
              "      <td>0</td>\n",
              "    </tr>\n",
              "  </tbody>\n",
              "</table>\n",
              "<p>5 rows × 26 columns</p>\n",
              "</div>\n",
              "    <div class=\"colab-df-buttons\">\n",
              "\n",
              "  <div class=\"colab-df-container\">\n",
              "    <button class=\"colab-df-convert\" onclick=\"convertToInteractive('df-dd06c28f-3128-4213-9086-835ea98ed870')\"\n",
              "            title=\"Convert this dataframe to an interactive table.\"\n",
              "            style=\"display:none;\">\n",
              "\n",
              "  <svg xmlns=\"http://www.w3.org/2000/svg\" height=\"24px\" viewBox=\"0 -960 960 960\">\n",
              "    <path d=\"M120-120v-720h720v720H120Zm60-500h600v-160H180v160Zm220 220h160v-160H400v160Zm0 220h160v-160H400v160ZM180-400h160v-160H180v160Zm440 0h160v-160H620v160ZM180-180h160v-160H180v160Zm440 0h160v-160H620v160Z\"/>\n",
              "  </svg>\n",
              "    </button>\n",
              "\n",
              "  <style>\n",
              "    .colab-df-container {\n",
              "      display:flex;\n",
              "      gap: 12px;\n",
              "    }\n",
              "\n",
              "    .colab-df-convert {\n",
              "      background-color: #E8F0FE;\n",
              "      border: none;\n",
              "      border-radius: 50%;\n",
              "      cursor: pointer;\n",
              "      display: none;\n",
              "      fill: #1967D2;\n",
              "      height: 32px;\n",
              "      padding: 0 0 0 0;\n",
              "      width: 32px;\n",
              "    }\n",
              "\n",
              "    .colab-df-convert:hover {\n",
              "      background-color: #E2EBFA;\n",
              "      box-shadow: 0px 1px 2px rgba(60, 64, 67, 0.3), 0px 1px 3px 1px rgba(60, 64, 67, 0.15);\n",
              "      fill: #174EA6;\n",
              "    }\n",
              "\n",
              "    .colab-df-buttons div {\n",
              "      margin-bottom: 4px;\n",
              "    }\n",
              "\n",
              "    [theme=dark] .colab-df-convert {\n",
              "      background-color: #3B4455;\n",
              "      fill: #D2E3FC;\n",
              "    }\n",
              "\n",
              "    [theme=dark] .colab-df-convert:hover {\n",
              "      background-color: #434B5C;\n",
              "      box-shadow: 0px 1px 3px 1px rgba(0, 0, 0, 0.15);\n",
              "      filter: drop-shadow(0px 1px 2px rgba(0, 0, 0, 0.3));\n",
              "      fill: #FFFFFF;\n",
              "    }\n",
              "  </style>\n",
              "\n",
              "    <script>\n",
              "      const buttonEl =\n",
              "        document.querySelector('#df-dd06c28f-3128-4213-9086-835ea98ed870 button.colab-df-convert');\n",
              "      buttonEl.style.display =\n",
              "        google.colab.kernel.accessAllowed ? 'block' : 'none';\n",
              "\n",
              "      async function convertToInteractive(key) {\n",
              "        const element = document.querySelector('#df-dd06c28f-3128-4213-9086-835ea98ed870');\n",
              "        const dataTable =\n",
              "          await google.colab.kernel.invokeFunction('convertToInteractive',\n",
              "                                                    [key], {});\n",
              "        if (!dataTable) return;\n",
              "\n",
              "        const docLinkHtml = 'Like what you see? Visit the ' +\n",
              "          '<a target=\"_blank\" href=https://colab.research.google.com/notebooks/data_table.ipynb>data table notebook</a>'\n",
              "          + ' to learn more about interactive tables.';\n",
              "        element.innerHTML = '';\n",
              "        dataTable['output_type'] = 'display_data';\n",
              "        await google.colab.output.renderOutput(dataTable, element);\n",
              "        const docLink = document.createElement('div');\n",
              "        docLink.innerHTML = docLinkHtml;\n",
              "        element.appendChild(docLink);\n",
              "      }\n",
              "    </script>\n",
              "  </div>\n",
              "\n",
              "\n",
              "<div id=\"df-bdcb588f-5a68-49a6-9f0d-bdcf39d04719\">\n",
              "  <button class=\"colab-df-quickchart\" onclick=\"quickchart('df-bdcb588f-5a68-49a6-9f0d-bdcf39d04719')\"\n",
              "            title=\"Suggest charts\"\n",
              "            style=\"display:none;\">\n",
              "\n",
              "<svg xmlns=\"http://www.w3.org/2000/svg\" height=\"24px\"viewBox=\"0 0 24 24\"\n",
              "     width=\"24px\">\n",
              "    <g>\n",
              "        <path d=\"M19 3H5c-1.1 0-2 .9-2 2v14c0 1.1.9 2 2 2h14c1.1 0 2-.9 2-2V5c0-1.1-.9-2-2-2zM9 17H7v-7h2v7zm4 0h-2V7h2v10zm4 0h-2v-4h2v4z\"/>\n",
              "    </g>\n",
              "</svg>\n",
              "  </button>\n",
              "\n",
              "<style>\n",
              "  .colab-df-quickchart {\n",
              "      --bg-color: #E8F0FE;\n",
              "      --fill-color: #1967D2;\n",
              "      --hover-bg-color: #E2EBFA;\n",
              "      --hover-fill-color: #174EA6;\n",
              "      --disabled-fill-color: #AAA;\n",
              "      --disabled-bg-color: #DDD;\n",
              "  }\n",
              "\n",
              "  [theme=dark] .colab-df-quickchart {\n",
              "      --bg-color: #3B4455;\n",
              "      --fill-color: #D2E3FC;\n",
              "      --hover-bg-color: #434B5C;\n",
              "      --hover-fill-color: #FFFFFF;\n",
              "      --disabled-bg-color: #3B4455;\n",
              "      --disabled-fill-color: #666;\n",
              "  }\n",
              "\n",
              "  .colab-df-quickchart {\n",
              "    background-color: var(--bg-color);\n",
              "    border: none;\n",
              "    border-radius: 50%;\n",
              "    cursor: pointer;\n",
              "    display: none;\n",
              "    fill: var(--fill-color);\n",
              "    height: 32px;\n",
              "    padding: 0;\n",
              "    width: 32px;\n",
              "  }\n",
              "\n",
              "  .colab-df-quickchart:hover {\n",
              "    background-color: var(--hover-bg-color);\n",
              "    box-shadow: 0 1px 2px rgba(60, 64, 67, 0.3), 0 1px 3px 1px rgba(60, 64, 67, 0.15);\n",
              "    fill: var(--button-hover-fill-color);\n",
              "  }\n",
              "\n",
              "  .colab-df-quickchart-complete:disabled,\n",
              "  .colab-df-quickchart-complete:disabled:hover {\n",
              "    background-color: var(--disabled-bg-color);\n",
              "    fill: var(--disabled-fill-color);\n",
              "    box-shadow: none;\n",
              "  }\n",
              "\n",
              "  .colab-df-spinner {\n",
              "    border: 2px solid var(--fill-color);\n",
              "    border-color: transparent;\n",
              "    border-bottom-color: var(--fill-color);\n",
              "    animation:\n",
              "      spin 1s steps(1) infinite;\n",
              "  }\n",
              "\n",
              "  @keyframes spin {\n",
              "    0% {\n",
              "      border-color: transparent;\n",
              "      border-bottom-color: var(--fill-color);\n",
              "      border-left-color: var(--fill-color);\n",
              "    }\n",
              "    20% {\n",
              "      border-color: transparent;\n",
              "      border-left-color: var(--fill-color);\n",
              "      border-top-color: var(--fill-color);\n",
              "    }\n",
              "    30% {\n",
              "      border-color: transparent;\n",
              "      border-left-color: var(--fill-color);\n",
              "      border-top-color: var(--fill-color);\n",
              "      border-right-color: var(--fill-color);\n",
              "    }\n",
              "    40% {\n",
              "      border-color: transparent;\n",
              "      border-right-color: var(--fill-color);\n",
              "      border-top-color: var(--fill-color);\n",
              "    }\n",
              "    60% {\n",
              "      border-color: transparent;\n",
              "      border-right-color: var(--fill-color);\n",
              "    }\n",
              "    80% {\n",
              "      border-color: transparent;\n",
              "      border-right-color: var(--fill-color);\n",
              "      border-bottom-color: var(--fill-color);\n",
              "    }\n",
              "    90% {\n",
              "      border-color: transparent;\n",
              "      border-bottom-color: var(--fill-color);\n",
              "    }\n",
              "  }\n",
              "</style>\n",
              "\n",
              "  <script>\n",
              "    async function quickchart(key) {\n",
              "      const quickchartButtonEl =\n",
              "        document.querySelector('#' + key + ' button');\n",
              "      quickchartButtonEl.disabled = true;  // To prevent multiple clicks.\n",
              "      quickchartButtonEl.classList.add('colab-df-spinner');\n",
              "      try {\n",
              "        const charts = await google.colab.kernel.invokeFunction(\n",
              "            'suggestCharts', [key], {});\n",
              "      } catch (error) {\n",
              "        console.error('Error during call to suggestCharts:', error);\n",
              "      }\n",
              "      quickchartButtonEl.classList.remove('colab-df-spinner');\n",
              "      quickchartButtonEl.classList.add('colab-df-quickchart-complete');\n",
              "    }\n",
              "    (() => {\n",
              "      let quickchartButtonEl =\n",
              "        document.querySelector('#df-bdcb588f-5a68-49a6-9f0d-bdcf39d04719 button');\n",
              "      quickchartButtonEl.style.display =\n",
              "        google.colab.kernel.accessAllowed ? 'block' : 'none';\n",
              "    })();\n",
              "  </script>\n",
              "</div>\n",
              "\n",
              "    </div>\n",
              "  </div>\n"
            ]
          },
          "metadata": {},
          "execution_count": 3
        }
      ],
      "source": [
        "data.head()"
      ]
    },
    {
      "cell_type": "markdown",
      "metadata": {
        "id": "xPKxLnqJ9f5s"
      },
      "source": [
        "2. Investigate the dataset for missing or problematic data."
      ]
    },
    {
      "cell_type": "code",
      "execution_count": null,
      "metadata": {
        "colab": {
          "base_uri": "https://localhost:8080/"
        },
        "id": "BQmXaXUv9f5s",
        "outputId": "dac958b3-5d54-4e9c-c862-4c92438013bf"
      },
      "outputs": [
        {
          "output_type": "execute_result",
          "data": {
            "text/plain": [
              "Index(['destination', 'passanger', 'weather', 'temperature', 'time', 'coupon',\n",
              "       'expiration', 'gender', 'age', 'maritalStatus', 'has_children',\n",
              "       'education', 'occupation', 'income', 'car', 'Bar', 'CoffeeHouse',\n",
              "       'CarryAway', 'RestaurantLessThan20', 'Restaurant20To50',\n",
              "       'toCoupon_GEQ5min', 'toCoupon_GEQ15min', 'toCoupon_GEQ25min',\n",
              "       'direction_same', 'direction_opp', 'Y'],\n",
              "      dtype='object')"
            ]
          },
          "metadata": {},
          "execution_count": 4
        }
      ],
      "source": [
        "#Getting list of coloumns\n",
        "data.columns"
      ]
    },
    {
      "cell_type": "code",
      "source": [
        "#Get details about numeric columns\n",
        "data.describe()"
      ],
      "metadata": {
        "colab": {
          "base_uri": "https://localhost:8080/",
          "height": 300
        },
        "id": "B9qPaRdaqxOL",
        "outputId": "d6a145a1-94fb-40dc-fff3-9e6d5cc2f0ab"
      },
      "execution_count": null,
      "outputs": [
        {
          "output_type": "execute_result",
          "data": {
            "text/plain": [
              "        temperature  has_children  toCoupon_GEQ5min  toCoupon_GEQ15min  \\\n",
              "count  12684.000000  12684.000000           12684.0       12684.000000   \n",
              "mean      63.301798      0.414144               1.0           0.561495   \n",
              "std       19.154486      0.492593               0.0           0.496224   \n",
              "min       30.000000      0.000000               1.0           0.000000   \n",
              "25%       55.000000      0.000000               1.0           0.000000   \n",
              "50%       80.000000      0.000000               1.0           1.000000   \n",
              "75%       80.000000      1.000000               1.0           1.000000   \n",
              "max       80.000000      1.000000               1.0           1.000000   \n",
              "\n",
              "       toCoupon_GEQ25min  direction_same  direction_opp             Y  \n",
              "count       12684.000000    12684.000000   12684.000000  12684.000000  \n",
              "mean            0.119126        0.214759       0.785241      0.568433  \n",
              "std             0.323950        0.410671       0.410671      0.495314  \n",
              "min             0.000000        0.000000       0.000000      0.000000  \n",
              "25%             0.000000        0.000000       1.000000      0.000000  \n",
              "50%             0.000000        0.000000       1.000000      1.000000  \n",
              "75%             0.000000        0.000000       1.000000      1.000000  \n",
              "max             1.000000        1.000000       1.000000      1.000000  "
            ],
            "text/html": [
              "\n",
              "  <div id=\"df-6229e198-da2b-4072-88b1-66860b37ce3e\" class=\"colab-df-container\">\n",
              "    <div>\n",
              "<style scoped>\n",
              "    .dataframe tbody tr th:only-of-type {\n",
              "        vertical-align: middle;\n",
              "    }\n",
              "\n",
              "    .dataframe tbody tr th {\n",
              "        vertical-align: top;\n",
              "    }\n",
              "\n",
              "    .dataframe thead th {\n",
              "        text-align: right;\n",
              "    }\n",
              "</style>\n",
              "<table border=\"1\" class=\"dataframe\">\n",
              "  <thead>\n",
              "    <tr style=\"text-align: right;\">\n",
              "      <th></th>\n",
              "      <th>temperature</th>\n",
              "      <th>has_children</th>\n",
              "      <th>toCoupon_GEQ5min</th>\n",
              "      <th>toCoupon_GEQ15min</th>\n",
              "      <th>toCoupon_GEQ25min</th>\n",
              "      <th>direction_same</th>\n",
              "      <th>direction_opp</th>\n",
              "      <th>Y</th>\n",
              "    </tr>\n",
              "  </thead>\n",
              "  <tbody>\n",
              "    <tr>\n",
              "      <th>count</th>\n",
              "      <td>12684.000000</td>\n",
              "      <td>12684.000000</td>\n",
              "      <td>12684.0</td>\n",
              "      <td>12684.000000</td>\n",
              "      <td>12684.000000</td>\n",
              "      <td>12684.000000</td>\n",
              "      <td>12684.000000</td>\n",
              "      <td>12684.000000</td>\n",
              "    </tr>\n",
              "    <tr>\n",
              "      <th>mean</th>\n",
              "      <td>63.301798</td>\n",
              "      <td>0.414144</td>\n",
              "      <td>1.0</td>\n",
              "      <td>0.561495</td>\n",
              "      <td>0.119126</td>\n",
              "      <td>0.214759</td>\n",
              "      <td>0.785241</td>\n",
              "      <td>0.568433</td>\n",
              "    </tr>\n",
              "    <tr>\n",
              "      <th>std</th>\n",
              "      <td>19.154486</td>\n",
              "      <td>0.492593</td>\n",
              "      <td>0.0</td>\n",
              "      <td>0.496224</td>\n",
              "      <td>0.323950</td>\n",
              "      <td>0.410671</td>\n",
              "      <td>0.410671</td>\n",
              "      <td>0.495314</td>\n",
              "    </tr>\n",
              "    <tr>\n",
              "      <th>min</th>\n",
              "      <td>30.000000</td>\n",
              "      <td>0.000000</td>\n",
              "      <td>1.0</td>\n",
              "      <td>0.000000</td>\n",
              "      <td>0.000000</td>\n",
              "      <td>0.000000</td>\n",
              "      <td>0.000000</td>\n",
              "      <td>0.000000</td>\n",
              "    </tr>\n",
              "    <tr>\n",
              "      <th>25%</th>\n",
              "      <td>55.000000</td>\n",
              "      <td>0.000000</td>\n",
              "      <td>1.0</td>\n",
              "      <td>0.000000</td>\n",
              "      <td>0.000000</td>\n",
              "      <td>0.000000</td>\n",
              "      <td>1.000000</td>\n",
              "      <td>0.000000</td>\n",
              "    </tr>\n",
              "    <tr>\n",
              "      <th>50%</th>\n",
              "      <td>80.000000</td>\n",
              "      <td>0.000000</td>\n",
              "      <td>1.0</td>\n",
              "      <td>1.000000</td>\n",
              "      <td>0.000000</td>\n",
              "      <td>0.000000</td>\n",
              "      <td>1.000000</td>\n",
              "      <td>1.000000</td>\n",
              "    </tr>\n",
              "    <tr>\n",
              "      <th>75%</th>\n",
              "      <td>80.000000</td>\n",
              "      <td>1.000000</td>\n",
              "      <td>1.0</td>\n",
              "      <td>1.000000</td>\n",
              "      <td>0.000000</td>\n",
              "      <td>0.000000</td>\n",
              "      <td>1.000000</td>\n",
              "      <td>1.000000</td>\n",
              "    </tr>\n",
              "    <tr>\n",
              "      <th>max</th>\n",
              "      <td>80.000000</td>\n",
              "      <td>1.000000</td>\n",
              "      <td>1.0</td>\n",
              "      <td>1.000000</td>\n",
              "      <td>1.000000</td>\n",
              "      <td>1.000000</td>\n",
              "      <td>1.000000</td>\n",
              "      <td>1.000000</td>\n",
              "    </tr>\n",
              "  </tbody>\n",
              "</table>\n",
              "</div>\n",
              "    <div class=\"colab-df-buttons\">\n",
              "\n",
              "  <div class=\"colab-df-container\">\n",
              "    <button class=\"colab-df-convert\" onclick=\"convertToInteractive('df-6229e198-da2b-4072-88b1-66860b37ce3e')\"\n",
              "            title=\"Convert this dataframe to an interactive table.\"\n",
              "            style=\"display:none;\">\n",
              "\n",
              "  <svg xmlns=\"http://www.w3.org/2000/svg\" height=\"24px\" viewBox=\"0 -960 960 960\">\n",
              "    <path d=\"M120-120v-720h720v720H120Zm60-500h600v-160H180v160Zm220 220h160v-160H400v160Zm0 220h160v-160H400v160ZM180-400h160v-160H180v160Zm440 0h160v-160H620v160ZM180-180h160v-160H180v160Zm440 0h160v-160H620v160Z\"/>\n",
              "  </svg>\n",
              "    </button>\n",
              "\n",
              "  <style>\n",
              "    .colab-df-container {\n",
              "      display:flex;\n",
              "      gap: 12px;\n",
              "    }\n",
              "\n",
              "    .colab-df-convert {\n",
              "      background-color: #E8F0FE;\n",
              "      border: none;\n",
              "      border-radius: 50%;\n",
              "      cursor: pointer;\n",
              "      display: none;\n",
              "      fill: #1967D2;\n",
              "      height: 32px;\n",
              "      padding: 0 0 0 0;\n",
              "      width: 32px;\n",
              "    }\n",
              "\n",
              "    .colab-df-convert:hover {\n",
              "      background-color: #E2EBFA;\n",
              "      box-shadow: 0px 1px 2px rgba(60, 64, 67, 0.3), 0px 1px 3px 1px rgba(60, 64, 67, 0.15);\n",
              "      fill: #174EA6;\n",
              "    }\n",
              "\n",
              "    .colab-df-buttons div {\n",
              "      margin-bottom: 4px;\n",
              "    }\n",
              "\n",
              "    [theme=dark] .colab-df-convert {\n",
              "      background-color: #3B4455;\n",
              "      fill: #D2E3FC;\n",
              "    }\n",
              "\n",
              "    [theme=dark] .colab-df-convert:hover {\n",
              "      background-color: #434B5C;\n",
              "      box-shadow: 0px 1px 3px 1px rgba(0, 0, 0, 0.15);\n",
              "      filter: drop-shadow(0px 1px 2px rgba(0, 0, 0, 0.3));\n",
              "      fill: #FFFFFF;\n",
              "    }\n",
              "  </style>\n",
              "\n",
              "    <script>\n",
              "      const buttonEl =\n",
              "        document.querySelector('#df-6229e198-da2b-4072-88b1-66860b37ce3e button.colab-df-convert');\n",
              "      buttonEl.style.display =\n",
              "        google.colab.kernel.accessAllowed ? 'block' : 'none';\n",
              "\n",
              "      async function convertToInteractive(key) {\n",
              "        const element = document.querySelector('#df-6229e198-da2b-4072-88b1-66860b37ce3e');\n",
              "        const dataTable =\n",
              "          await google.colab.kernel.invokeFunction('convertToInteractive',\n",
              "                                                    [key], {});\n",
              "        if (!dataTable) return;\n",
              "\n",
              "        const docLinkHtml = 'Like what you see? Visit the ' +\n",
              "          '<a target=\"_blank\" href=https://colab.research.google.com/notebooks/data_table.ipynb>data table notebook</a>'\n",
              "          + ' to learn more about interactive tables.';\n",
              "        element.innerHTML = '';\n",
              "        dataTable['output_type'] = 'display_data';\n",
              "        await google.colab.output.renderOutput(dataTable, element);\n",
              "        const docLink = document.createElement('div');\n",
              "        docLink.innerHTML = docLinkHtml;\n",
              "        element.appendChild(docLink);\n",
              "      }\n",
              "    </script>\n",
              "  </div>\n",
              "\n",
              "\n",
              "<div id=\"df-d7911b30-5829-44e7-a39e-3c53653da5bd\">\n",
              "  <button class=\"colab-df-quickchart\" onclick=\"quickchart('df-d7911b30-5829-44e7-a39e-3c53653da5bd')\"\n",
              "            title=\"Suggest charts\"\n",
              "            style=\"display:none;\">\n",
              "\n",
              "<svg xmlns=\"http://www.w3.org/2000/svg\" height=\"24px\"viewBox=\"0 0 24 24\"\n",
              "     width=\"24px\">\n",
              "    <g>\n",
              "        <path d=\"M19 3H5c-1.1 0-2 .9-2 2v14c0 1.1.9 2 2 2h14c1.1 0 2-.9 2-2V5c0-1.1-.9-2-2-2zM9 17H7v-7h2v7zm4 0h-2V7h2v10zm4 0h-2v-4h2v4z\"/>\n",
              "    </g>\n",
              "</svg>\n",
              "  </button>\n",
              "\n",
              "<style>\n",
              "  .colab-df-quickchart {\n",
              "      --bg-color: #E8F0FE;\n",
              "      --fill-color: #1967D2;\n",
              "      --hover-bg-color: #E2EBFA;\n",
              "      --hover-fill-color: #174EA6;\n",
              "      --disabled-fill-color: #AAA;\n",
              "      --disabled-bg-color: #DDD;\n",
              "  }\n",
              "\n",
              "  [theme=dark] .colab-df-quickchart {\n",
              "      --bg-color: #3B4455;\n",
              "      --fill-color: #D2E3FC;\n",
              "      --hover-bg-color: #434B5C;\n",
              "      --hover-fill-color: #FFFFFF;\n",
              "      --disabled-bg-color: #3B4455;\n",
              "      --disabled-fill-color: #666;\n",
              "  }\n",
              "\n",
              "  .colab-df-quickchart {\n",
              "    background-color: var(--bg-color);\n",
              "    border: none;\n",
              "    border-radius: 50%;\n",
              "    cursor: pointer;\n",
              "    display: none;\n",
              "    fill: var(--fill-color);\n",
              "    height: 32px;\n",
              "    padding: 0;\n",
              "    width: 32px;\n",
              "  }\n",
              "\n",
              "  .colab-df-quickchart:hover {\n",
              "    background-color: var(--hover-bg-color);\n",
              "    box-shadow: 0 1px 2px rgba(60, 64, 67, 0.3), 0 1px 3px 1px rgba(60, 64, 67, 0.15);\n",
              "    fill: var(--button-hover-fill-color);\n",
              "  }\n",
              "\n",
              "  .colab-df-quickchart-complete:disabled,\n",
              "  .colab-df-quickchart-complete:disabled:hover {\n",
              "    background-color: var(--disabled-bg-color);\n",
              "    fill: var(--disabled-fill-color);\n",
              "    box-shadow: none;\n",
              "  }\n",
              "\n",
              "  .colab-df-spinner {\n",
              "    border: 2px solid var(--fill-color);\n",
              "    border-color: transparent;\n",
              "    border-bottom-color: var(--fill-color);\n",
              "    animation:\n",
              "      spin 1s steps(1) infinite;\n",
              "  }\n",
              "\n",
              "  @keyframes spin {\n",
              "    0% {\n",
              "      border-color: transparent;\n",
              "      border-bottom-color: var(--fill-color);\n",
              "      border-left-color: var(--fill-color);\n",
              "    }\n",
              "    20% {\n",
              "      border-color: transparent;\n",
              "      border-left-color: var(--fill-color);\n",
              "      border-top-color: var(--fill-color);\n",
              "    }\n",
              "    30% {\n",
              "      border-color: transparent;\n",
              "      border-left-color: var(--fill-color);\n",
              "      border-top-color: var(--fill-color);\n",
              "      border-right-color: var(--fill-color);\n",
              "    }\n",
              "    40% {\n",
              "      border-color: transparent;\n",
              "      border-right-color: var(--fill-color);\n",
              "      border-top-color: var(--fill-color);\n",
              "    }\n",
              "    60% {\n",
              "      border-color: transparent;\n",
              "      border-right-color: var(--fill-color);\n",
              "    }\n",
              "    80% {\n",
              "      border-color: transparent;\n",
              "      border-right-color: var(--fill-color);\n",
              "      border-bottom-color: var(--fill-color);\n",
              "    }\n",
              "    90% {\n",
              "      border-color: transparent;\n",
              "      border-bottom-color: var(--fill-color);\n",
              "    }\n",
              "  }\n",
              "</style>\n",
              "\n",
              "  <script>\n",
              "    async function quickchart(key) {\n",
              "      const quickchartButtonEl =\n",
              "        document.querySelector('#' + key + ' button');\n",
              "      quickchartButtonEl.disabled = true;  // To prevent multiple clicks.\n",
              "      quickchartButtonEl.classList.add('colab-df-spinner');\n",
              "      try {\n",
              "        const charts = await google.colab.kernel.invokeFunction(\n",
              "            'suggestCharts', [key], {});\n",
              "      } catch (error) {\n",
              "        console.error('Error during call to suggestCharts:', error);\n",
              "      }\n",
              "      quickchartButtonEl.classList.remove('colab-df-spinner');\n",
              "      quickchartButtonEl.classList.add('colab-df-quickchart-complete');\n",
              "    }\n",
              "    (() => {\n",
              "      let quickchartButtonEl =\n",
              "        document.querySelector('#df-d7911b30-5829-44e7-a39e-3c53653da5bd button');\n",
              "      quickchartButtonEl.style.display =\n",
              "        google.colab.kernel.accessAllowed ? 'block' : 'none';\n",
              "    })();\n",
              "  </script>\n",
              "</div>\n",
              "\n",
              "    </div>\n",
              "  </div>\n"
            ]
          },
          "metadata": {},
          "execution_count": 5
        }
      ]
    },
    {
      "cell_type": "code",
      "source": [
        "# Get column wise data type\n",
        "data.info()"
      ],
      "metadata": {
        "colab": {
          "base_uri": "https://localhost:8080/"
        },
        "id": "19oQPZROrLFH",
        "outputId": "1e5eff6d-1add-4c9d-f48b-ea3d7e1e3744"
      },
      "execution_count": null,
      "outputs": [
        {
          "output_type": "stream",
          "name": "stdout",
          "text": [
            "<class 'pandas.core.frame.DataFrame'>\n",
            "RangeIndex: 12684 entries, 0 to 12683\n",
            "Data columns (total 26 columns):\n",
            " #   Column                Non-Null Count  Dtype \n",
            "---  ------                --------------  ----- \n",
            " 0   destination           12684 non-null  object\n",
            " 1   passanger             12684 non-null  object\n",
            " 2   weather               12684 non-null  object\n",
            " 3   temperature           12684 non-null  int64 \n",
            " 4   time                  12684 non-null  object\n",
            " 5   coupon                12684 non-null  object\n",
            " 6   expiration            12684 non-null  object\n",
            " 7   gender                12684 non-null  object\n",
            " 8   age                   12684 non-null  object\n",
            " 9   maritalStatus         12684 non-null  object\n",
            " 10  has_children          12684 non-null  int64 \n",
            " 11  education             12684 non-null  object\n",
            " 12  occupation            12684 non-null  object\n",
            " 13  income                12684 non-null  object\n",
            " 14  car                   108 non-null    object\n",
            " 15  Bar                   12577 non-null  object\n",
            " 16  CoffeeHouse           12467 non-null  object\n",
            " 17  CarryAway             12533 non-null  object\n",
            " 18  RestaurantLessThan20  12554 non-null  object\n",
            " 19  Restaurant20To50      12495 non-null  object\n",
            " 20  toCoupon_GEQ5min      12684 non-null  int64 \n",
            " 21  toCoupon_GEQ15min     12684 non-null  int64 \n",
            " 22  toCoupon_GEQ25min     12684 non-null  int64 \n",
            " 23  direction_same        12684 non-null  int64 \n",
            " 24  direction_opp         12684 non-null  int64 \n",
            " 25  Y                     12684 non-null  int64 \n",
            "dtypes: int64(8), object(18)\n",
            "memory usage: 2.5+ MB\n"
          ]
        }
      ]
    },
    {
      "cell_type": "markdown",
      "metadata": {
        "id": "dYGyBDBn9f5s"
      },
      "source": [
        "3. Decide what to do about your missing data -- drop, replace, other..."
      ]
    },
    {
      "cell_type": "code",
      "source": [
        "#To Identify column wise null values count\n",
        "data.isna().sum()"
      ],
      "metadata": {
        "colab": {
          "base_uri": "https://localhost:8080/"
        },
        "id": "lsWnSehd2hoT",
        "outputId": "2630d175-0b91-4da0-ea01-b425460b29aa"
      },
      "execution_count": null,
      "outputs": [
        {
          "output_type": "execute_result",
          "data": {
            "text/plain": [
              "destination                 0\n",
              "passanger                   0\n",
              "weather                     0\n",
              "temperature                 0\n",
              "time                        0\n",
              "coupon                      0\n",
              "expiration                  0\n",
              "gender                      0\n",
              "age                         0\n",
              "maritalStatus               0\n",
              "has_children                0\n",
              "education                   0\n",
              "occupation                  0\n",
              "income                      0\n",
              "car                     12576\n",
              "Bar                       107\n",
              "CoffeeHouse               217\n",
              "CarryAway                 151\n",
              "RestaurantLessThan20      130\n",
              "Restaurant20To50          189\n",
              "toCoupon_GEQ5min            0\n",
              "toCoupon_GEQ15min           0\n",
              "toCoupon_GEQ25min           0\n",
              "direction_same              0\n",
              "direction_opp               0\n",
              "Y                           0\n",
              "dtype: int64"
            ]
          },
          "metadata": {},
          "execution_count": 5
        }
      ]
    },
    {
      "cell_type": "code",
      "source": [
        "# 91% of 'Car' column is null, considering that dropping that column make sense\n",
        "data = data.drop(columns= ['car'])"
      ],
      "metadata": {
        "id": "upNjxaDcIYpb"
      },
      "execution_count": null,
      "outputs": []
    },
    {
      "cell_type": "code",
      "source": [
        "data.info()"
      ],
      "metadata": {
        "colab": {
          "base_uri": "https://localhost:8080/"
        },
        "id": "u-G9WZjTIkva",
        "outputId": "588ba456-6347-4fd6-80de-bff216d48169"
      },
      "execution_count": null,
      "outputs": [
        {
          "output_type": "stream",
          "name": "stdout",
          "text": [
            "<class 'pandas.core.frame.DataFrame'>\n",
            "RangeIndex: 12684 entries, 0 to 12683\n",
            "Data columns (total 25 columns):\n",
            " #   Column                Non-Null Count  Dtype \n",
            "---  ------                --------------  ----- \n",
            " 0   destination           12684 non-null  object\n",
            " 1   passanger             12684 non-null  object\n",
            " 2   weather               12684 non-null  object\n",
            " 3   temperature           12684 non-null  int64 \n",
            " 4   time                  12684 non-null  object\n",
            " 5   coupon                12684 non-null  object\n",
            " 6   expiration            12684 non-null  object\n",
            " 7   gender                12684 non-null  object\n",
            " 8   age                   12684 non-null  object\n",
            " 9   maritalStatus         12684 non-null  object\n",
            " 10  has_children          12684 non-null  int64 \n",
            " 11  education             12684 non-null  object\n",
            " 12  occupation            12684 non-null  object\n",
            " 13  income                12684 non-null  object\n",
            " 14  Bar                   12577 non-null  object\n",
            " 15  CoffeeHouse           12467 non-null  object\n",
            " 16  CarryAway             12533 non-null  object\n",
            " 17  RestaurantLessThan20  12554 non-null  object\n",
            " 18  Restaurant20To50      12495 non-null  object\n",
            " 19  toCoupon_GEQ5min      12684 non-null  int64 \n",
            " 20  toCoupon_GEQ15min     12684 non-null  int64 \n",
            " 21  toCoupon_GEQ25min     12684 non-null  int64 \n",
            " 22  direction_same        12684 non-null  int64 \n",
            " 23  direction_opp         12684 non-null  int64 \n",
            " 24  Y                     12684 non-null  int64 \n",
            "dtypes: int64(8), object(17)\n",
            "memory usage: 2.4+ MB\n"
          ]
        }
      ]
    },
    {
      "cell_type": "code",
      "source": [
        "data['RestaurantLessThan20'].value_counts()"
      ],
      "metadata": {
        "colab": {
          "base_uri": "https://localhost:8080/"
        },
        "id": "1AJvXLAVJkGV",
        "outputId": "c1a9defc-d68f-4948-c31d-b5b2de8828aa"
      },
      "execution_count": null,
      "outputs": [
        {
          "output_type": "execute_result",
          "data": {
            "text/plain": [
              "1~3      5376\n",
              "4~8      3580\n",
              "less1    2093\n",
              "gt8      1285\n",
              "never     220\n",
              "Name: RestaurantLessThan20, dtype: int64"
            ]
          },
          "metadata": {},
          "execution_count": 69
        }
      ]
    },
    {
      "cell_type": "code",
      "source": [
        "data['coupon'].value_counts()"
      ],
      "metadata": {
        "colab": {
          "base_uri": "https://localhost:8080/"
        },
        "id": "yMa3QfH1KRjU",
        "outputId": "2113942e-3e2d-49fd-90b1-b7297067a9c5"
      },
      "execution_count": null,
      "outputs": [
        {
          "output_type": "execute_result",
          "data": {
            "text/plain": [
              "Coffee House             3996\n",
              "Restaurant(<20)          2786\n",
              "Carry out & Take away    2393\n",
              "Bar                      2017\n",
              "Restaurant(20-50)        1492\n",
              "Name: coupon, dtype: int64"
            ]
          },
          "metadata": {},
          "execution_count": 47
        }
      ]
    },
    {
      "cell_type": "code",
      "source": [
        "data[data['Y']==1]['income'].value_counts()"
      ],
      "metadata": {
        "colab": {
          "base_uri": "https://localhost:8080/"
        },
        "id": "XyEkV3rcPQso",
        "outputId": "94cc6675-3b98-4c48-cc3e-29cfd467b76e"
      },
      "execution_count": null,
      "outputs": [
        {
          "output_type": "execute_result",
          "data": {
            "text/plain": [
              "$25000 - $37499     1194\n",
              "$12500 - $24999     1052\n",
              "$37500 - $49999     1018\n",
              "$100000 or More     1004\n",
              "$50000 - $62499      988\n",
              "Less than $12500     618\n",
              "$87500 - $99999      476\n",
              "$62500 - $74999      446\n",
              "$75000 - $87499      414\n",
              "Name: income, dtype: int64"
            ]
          },
          "metadata": {},
          "execution_count": 51
        }
      ]
    },
    {
      "cell_type": "code",
      "source": [
        "df = data[['destination', 'passanger',\n",
        "           #'weather',\n",
        "           'temperature', 'time', 'coupon',\n",
        "       'expiration', 'gender',\n",
        "           'age',\n",
        "           'maritalStatus', 'has_children',\n",
        "           'education', #'occupation',\n",
        "           'income', 'car', 'Bar', 'CoffeeHouse',\n",
        "       'CarryAway', 'RestaurantLessThan20', 'Restaurant20To50',\n",
        "       'toCoupon_GEQ5min', 'toCoupon_GEQ15min', 'toCoupon_GEQ25min',\n",
        "       #'direction_same', 'direction_opp',\n",
        "           'Y']]\n"
      ],
      "metadata": {
        "id": "1VyFGK6VPgK2"
      },
      "execution_count": null,
      "outputs": []
    },
    {
      "cell_type": "markdown",
      "metadata": {
        "id": "NHmh-Ai19f5t"
      },
      "source": [
        "4. What proportion of the total observations chose to accept the coupon?\n",
        "\n"
      ]
    },
    {
      "cell_type": "code",
      "execution_count": null,
      "metadata": {
        "colab": {
          "base_uri": "https://localhost:8080/"
        },
        "id": "0-0RC-bC9f5t",
        "outputId": "dc396fa0-5cf2-4df1-e868-71a05d64bc9c"
      },
      "outputs": [
        {
          "output_type": "stream",
          "name": "stdout",
          "text": [
            "The proportion of the total observations chose to accept the coupon : 56.84%\n"
          ]
        }
      ],
      "source": [
        "# What proportion of the total observations chose to accept the coupon\n",
        "accptpercent = (data[data['Y']==1].count() / len(data))*100\n",
        "accptpercent[1] = round(accptpercent[1],2)\n",
        "print(f\"The proportion of the total observations chose to accept the coupon : {accptpercent[1]}%\")"
      ]
    },
    {
      "cell_type": "markdown",
      "metadata": {
        "id": "DiXXeuYS9f5t"
      },
      "source": [
        "5. Use a bar plot to visualize the `coupon` column."
      ]
    },
    {
      "cell_type": "code",
      "source": [
        "# Coupon column value count in bar plot\n",
        "ax= data['coupon'].value_counts().plot(kind='bar',title='Bar plot of Coupon column', legend=True, color='green')\n",
        "ax.set_ylabel('Count')\n",
        "plt.show()"
      ],
      "metadata": {
        "colab": {
          "base_uri": "https://localhost:8080/",
          "height": 595
        },
        "id": "ivl1GMPtDm6O",
        "outputId": "07dda6e9-40d6-4fc8-cd02-bed50c1c9ae7"
      },
      "execution_count": null,
      "outputs": [
        {
          "output_type": "display_data",
          "data": {
            "text/plain": [
              "<Figure size 640x480 with 1 Axes>"
            ],
            "image/png": "[encoded data removed]"
          },
          "metadata": {}
        }
      ]
    },
    {
      "cell_type": "markdown",
      "metadata": {
        "id": "-pzzpqLn9f5u"
      },
      "source": [
        "6. Use a histogram to visualize the temperature column."
      ]
    },
    {
      "cell_type": "code",
      "execution_count": null,
      "metadata": {
        "colab": {
          "base_uri": "https://localhost:8080/",
          "height": 472
        },
        "id": "j3fP68yL9f5u",
        "outputId": "a776a0ca-27b7-4801-aa20-246e71637a8b"
      },
      "outputs": [
        {
          "output_type": "display_data",
          "data": {
            "text/plain": [
              "<Figure size 640x480 with 1 Axes>"
            ],
            "image/png": "[encoded data removed]"
          },
          "metadata": {}
        }
      ],
      "source": [
        "# Histogram to visualize the temperature column.\n",
        "ax = data.temperature.plot(kind='hist',legend=True, color='orange')\n",
        "ax.set_xlabel('Temperatures in Fahrenheit')\n",
        "ax.set_title('Temperature split')\n",
        "plt.show()"
      ]
    },
    {
      "cell_type": "code",
      "execution_count": null,
      "metadata": {
        "id": "7dDUlIqs9f5v"
      },
      "outputs": [],
      "source": []
    },
    {
      "cell_type": "code",
      "execution_count": null,
      "metadata": {
        "id": "NMIEhG1m9f5v"
      },
      "outputs": [],
      "source": []
    },
    {
      "cell_type": "code",
      "execution_count": null,
      "metadata": {
        "id": "ErbVk68Z9f5v"
      },
      "outputs": [],
      "source": []
    },
    {
      "cell_type": "code",
      "execution_count": null,
      "metadata": {
        "id": "7h-waS5G9f5v"
      },
      "outputs": [],
      "source": []
    },
    {
      "cell_type": "markdown",
      "metadata": {
        "id": "1i2gR6eE9f5w"
      },
      "source": [
        "**Investigating the Bar Coupons**\n",
        "\n",
        "Now, we will lead you through an exploration of just the bar related coupons.  \n",
        "\n",
        "1. Create a new `DataFrame` that contains just the bar coupons.\n"
      ]
    },
    {
      "cell_type": "code",
      "execution_count": null,
      "metadata": {
        "id": "hEIstJ499f5w"
      },
      "outputs": [],
      "source": [
        "# DataFrame that contains just the bar coupons.\n",
        "data_bar = data[(data['coupon'] == 'Bar')]"
      ]
    },
    {
      "cell_type": "markdown",
      "metadata": {
        "id": "lpvxEP8u9f5w"
      },
      "source": [
        "2. What proportion of bar coupons were accepted?\n"
      ]
    },
    {
      "cell_type": "code",
      "execution_count": null,
      "metadata": {
        "colab": {
          "base_uri": "https://localhost:8080/"
        },
        "id": "T6qEfOXr9f5w",
        "outputId": "7a074fc3-8359-440c-9c82-1bb6f27d07d0"
      },
      "outputs": [
        {
          "output_type": "stream",
          "name": "stdout",
          "text": [
            "41.0% of bar coupons were accepted.\n"
          ]
        }
      ],
      "source": [
        "#Function to calculate acceptance rate in % and round to 2 decimals by taking value count series\n",
        "def calculate_accp_rate (value_count_series):\n",
        "  total_count = value_count_series.sum()\n",
        "  accp_rate = round((value_count_series[1]/total_count)*100,2)\n",
        "  return accp_rate\n",
        "\n",
        "# Proportion of bar coupons were accepted\n",
        "#data['Bar'].value_counts() / len(data)\n",
        "bar_coupon_accepted_status = data_bar['Y'].value_counts()\n",
        "bar_coup_accp_per = calculate_accp_rate(bar_coupon_accepted_status)\n",
        "print(f\"{bar_coup_accp_per}% of bar coupons were accepted.\")"
      ]
    },
    {
      "cell_type": "markdown",
      "metadata": {
        "id": "krha-Kpl9f5w"
      },
      "source": [
        "3. Compare the acceptance rate between those who went to a bar 3 or fewer times a month to those who went more.\n"
      ]
    },
    {
      "cell_type": "code",
      "source": [
        "bar_coupon_accepted_status"
      ],
      "metadata": {
        "colab": {
          "base_uri": "https://localhost:8080/"
        },
        "id": "qf3StEmw8VbG",
        "outputId": "ab6f109f-cc4d-4199-ba8b-290fa45793bc"
      },
      "execution_count": null,
      "outputs": [
        {
          "output_type": "execute_result",
          "data": {
            "text/plain": [
              "0    1190\n",
              "1     827\n",
              "Name: Y, dtype: int64"
            ]
          },
          "metadata": {},
          "execution_count": 13
        }
      ]
    },
    {
      "cell_type": "code",
      "source": [
        "#Acceptance rate between those who went to a bar 3 or fewer times a month\n",
        "bar_3_fewer_accp = data_bar[(data_bar['Bar'].isin(['1~3','less1','never']))]['Y'].value_counts()\n",
        "bar_3_fewer_accp_rate = calculate_accp_rate (bar_3_fewer_accp)\n",
        "\n",
        "#Acceptance rate between those who went to a bar more than 3 times a month\n",
        "bar_3_more_accp = data_bar[(data_bar['Bar'].isin(['4~8','gt8']))]['Y'].value_counts()\n",
        "bar_3_more_accp_rate = calculate_accp_rate (bar_3_more_accp)\n",
        "\n",
        "bar_accp_ratio = bar_3_fewer_accp_rate/bar_3_more_accp_rate\n",
        "bar_accp_ratio = round(bar_accp_ratio,2)\n",
        "\n",
        "print(f\"{bar_3_fewer_accp_rate}% bar coupon accepted by those who went to a bar 3 or fewer times a month.\")\n",
        "print(f\"{bar_3_more_accp_rate}% bar coupon accepted by those who went more than 3 times a month.\")"
      ],
      "metadata": {
        "colab": {
          "base_uri": "https://localhost:8080/"
        },
        "id": "dni4dXJUu8KR",
        "outputId": "b5ca41ca-32a7-4a1b-c728-aa86e9247ff6"
      },
      "execution_count": null,
      "outputs": [
        {
          "output_type": "stream",
          "name": "stdout",
          "text": [
            "37.06% bar coupon accepted by those who went to a bar 3 or fewer times a month.\n",
            "76.88% bar coupon accepted by those who went more than 3 times a month.\n"
          ]
        }
      ]
    },
    {
      "cell_type": "code",
      "source": [],
      "metadata": {
        "id": "xNaaIdyE1WuN"
      },
      "execution_count": null,
      "outputs": []
    },
    {
      "cell_type": "markdown",
      "metadata": {
        "id": "XiuBxI_R9f5w"
      },
      "source": [
        "4. Compare the acceptance rate between drivers who go to a bar more than once a month and are over the age of 25 to the all others.  Is there a difference?\n"
      ]
    },
    {
      "cell_type": "code",
      "source": [
        "#Histogram of bar coupon acceptance count by age & based on per month bar visits\n",
        "data_bar_sorted = data_bar.query('Y==1')['Bar'].value_counts().sort_values(ascending=False)\n",
        "fig = px.histogram(data_bar.query('Y==1'),x='Bar',color='age',category_orders={'Bar':data_bar_sorted.index})\n",
        "# Cutomize the plot\n",
        "fig.update_layout(title = 'Bar coupon acceptance count by age & bar visits',\n",
        "                  xaxis_title = 'Bar Visits',\n",
        "                  yaxis_title='Count',\n",
        "                  legend_title = 'Age')\n",
        "#Show the plot\n",
        "fig.show()"
      ],
      "metadata": {
        "colab": {
          "base_uri": "https://localhost:8080/",
          "height": 542
        },
        "id": "PtaEdjZDlgLJ",
        "outputId": "c95a9ee4-d30b-4e61-d7f4-b74f46d553c8"
      },
      "execution_count": null,
      "outputs": [
        {
          "output_type": "display_data",
          "data": {
            "text/html": [
              "<html>\n",
              "<head><meta charset=\"utf-8\" /></head>\n",
              "<body>\n",
              "    <div>            <script src=\"https://cdnjs.cloudflare.com/ajax/libs/mathjax/2.7.5/MathJax.js?config=TeX-AMS-MML_SVG\"></script><script type=\"text/javascript\">if (window.MathJax && window.MathJax.Hub && window.MathJax.Hub.Config) {window.MathJax.Hub.Config({SVG: {font: \"STIX-Web\"}});}</script>                <script type=\"text/javascript\">window.PlotlyConfig = {MathJaxConfig: 'local'};</script>\n",
              "        <script charset=\"utf-8\" src=\"https://cdn.plot.ly/plotly-2.24.1.min.js\"></script>                <div id=\"2c19dccd-771b-4bde-a5b3-bf6d5fa660a4\" class=\"plotly-graph-div\" style=\"height:525px; width:100%;\"></div>            <script type=\"text/javascript\">                                    window.PLOTLYENV=window.PLOTLYENV || {};                                    if (document.getElementById(\"2c19dccd-771b-4bde-a5b3-bf6d5fa660a4\")) {                    Plotly.newPlot(                        \"2c19dccd-771b-4bde-a5b3-bf6d5fa660a4\",                        [{\"alignmentgroup\":\"True\",\"bingroup\":\"x\",\"hovertemplate\":\"age=21\\u003cbr\\u003eBar=%{x}\\u003cbr\\u003ecount=%{y}\\u003cextra\\u003e\\u003c\\u002fextra\\u003e\",\"legendgroup\":\"21\",\"marker\":{\"color\":\"#636efa\",\"pattern\":{\"shape\":\"\"}},\"name\":\"21\",\"offsetgroup\":\"21\",\"orientation\":\"v\",\"showlegend\":true,\"x\":[\"never\",\"never\",\"never\",\"never\",\"1~3\",\"1~3\",\"less1\",\"1~3\",\"1~3\",\"1~3\",\"1~3\",\"1~3\",\"never\",\"never\",\"1~3\",\"1~3\",\"1~3\",\"less1\",\"less1\",\"less1\",\"less1\",\"less1\",\"4~8\",\"4~8\",\"4~8\",\"1~3\",\"1~3\",\"1~3\",\"less1\",\"less1\",\"less1\",\"never\",\"never\",\"never\",\"less1\",\"less1\",\"less1\",\"4~8\",\"4~8\",\"4~8\",\"1~3\",\"1~3\",\"4~8\",\"4~8\",\"4~8\",\"1~3\",\"1~3\",\"1~3\",\"1~3\",\"1~3\",\"1~3\",\"less1\",\"less1\",\"1~3\",\"1~3\",\"never\",\"never\",\"less1\",\"less1\",\"less1\",\"gt8\",\"gt8\",\"gt8\",\"less1\",\"less1\",\"less1\",\"gt8\",\"gt8\",\"gt8\",\"gt8\",\"gt8\",\"gt8\",\"4~8\",\"4~8\",\"4~8\",\"never\",\"never\",\"never\",\"1~3\",\"1~3\",\"1~3\",\"1~3\",\"less1\",\"less1\",\"4~8\",\"less1\",\"less1\",\"less1\",\"never\",\"never\",\"less1\",\"less1\",\"less1\",\"less1\",\"less1\",\"less1\",\"less1\",\"4~8\",\"less1\",\"less1\",\"1~3\",\"1~3\",\"never\",\"less1\",\"less1\",\"less1\",\"less1\",\"4~8\",\"4~8\",\"1~3\",\"1~3\",\"1~3\",\"never\",\"never\",\"less1\",\"less1\",\"4~8\",\"4~8\",\"less1\",\"less1\",\"less1\",\"less1\",\"4~8\",\"4~8\",\"1~3\",\"1~3\",\"1~3\",\"1~3\",\"never\",\"never\",\"never\",\"1~3\",\"1~3\",\"less1\",\"less1\",\"less1\",\"less1\",\"less1\",\"1~3\",\"1~3\",\"1~3\",\"4~8\",\"4~8\",\"4~8\",\"4~8\",\"less1\",\"less1\",\"1~3\",\"4~8\",\"4~8\",\"4~8\",\"4~8\",\"1~3\",\"1~3\",\"1~3\",\"1~3\",\"1~3\",\"1~3\",\"1~3\",\"less1\",\"1~3\",\"1~3\",\"1~3\",\"1~3\",\"1~3\",\"1~3\",\"1~3\",\"1~3\",\"less1\",\"less1\",\"less1\",\"less1\",\"1~3\",\"1~3\",\"never\",\"never\",\"never\",\"less1\",\"less1\",\"less1\",\"less1\",\"gt8\",\"gt8\",\"gt8\",\"gt8\",\"1~3\",\"1~3\",\"1~3\",\"less1\",\"4~8\",\"4~8\",\"4~8\",\"4~8\",\"4~8\",\"1~3\",\"1~3\",\"1~3\",\"1~3\",\"never\",\"never\",\"never\",\"never\",\"never\",\"less1\",\"less1\",\"less1\",\"1~3\",\"1~3\",\"never\",\"never\",\"never\"],\"xaxis\":\"x\",\"yaxis\":\"y\",\"type\":\"histogram\"},{\"alignmentgroup\":\"True\",\"bingroup\":\"x\",\"hovertemplate\":\"age=46\\u003cbr\\u003eBar=%{x}\\u003cbr\\u003ecount=%{y}\\u003cextra\\u003e\\u003c\\u002fextra\\u003e\",\"legendgroup\":\"46\",\"marker\":{\"color\":\"#EF553B\",\"pattern\":{\"shape\":\"\"}},\"name\":\"46\",\"offsetgroup\":\"46\",\"orientation\":\"v\",\"showlegend\":true,\"x\":[\"less1\",\"less1\",\"less1\",\"less1\",\"less1\",\"never\",\"less1\",\"never\",\"never\",\"4~8\",\"4~8\",\"less1\",\"less1\",\"1~3\",\"1~3\",\"never\",\"never\",\"never\",\"never\",\"never\",\"less1\",\"less1\",\"never\",\"1~3\",\"1~3\",\"less1\",\"less1\",\"less1\",\"4~8\",\"4~8\",\"4~8\",\"4~8\",\"never\",\"1~3\",\"1~3\",\"less1\",\"less1\",\"less1\"],\"xaxis\":\"x\",\"yaxis\":\"y\",\"type\":\"histogram\"},{\"alignmentgroup\":\"True\",\"bingroup\":\"x\",\"hovertemplate\":\"age=26\\u003cbr\\u003eBar=%{x}\\u003cbr\\u003ecount=%{y}\\u003cextra\\u003e\\u003c\\u002fextra\\u003e\",\"legendgroup\":\"26\",\"marker\":{\"color\":\"#00cc96\",\"pattern\":{\"shape\":\"\"}},\"name\":\"26\",\"offsetgroup\":\"26\",\"orientation\":\"v\",\"showlegend\":true,\"x\":[\"1~3\",\"1~3\",\"1~3\",\"gt8\",\"gt8\",\"gt8\",\"never\",\"never\",\"never\",\"4~8\",\"4~8\",\"1~3\",\"1~3\",\"1~3\",\"never\",\"never\",\"never\",null,null,\"1~3\",\"1~3\",\"1~3\",\"less1\",\"1~3\",\"1~3\",\"1~3\",\"1~3\",\"1~3\",\"1~3\",\"1~3\",\"1~3\",\"never\",\"never\",\"never\",\"less1\",\"less1\",\"4~8\",\"4~8\",\"never\",null,\"4~8\",\"4~8\",\"4~8\",\"never\",\"1~3\",\"1~3\",\"1~3\",\"gt8\",\"gt8\",\"gt8\",\"gt8\",\"gt8\",\"gt8\",\"gt8\",\"never\",\"never\",\"never\",\"4~8\",\"4~8\",\"4~8\",\"less1\",\"less1\",\"never\",\"never\",\"less1\",\"less1\",\"less1\",\"1~3\",\"1~3\",\"1~3\",\"never\",\"never\",\"less1\",\"less1\",\"less1\",\"less1\",\"4~8\",\"4~8\",\"1~3\",\"4~8\",\"4~8\",\"1~3\",\"1~3\",\"never\",\"4~8\",\"4~8\",\"4~8\",\"4~8\",\"4~8\",\"1~3\",\"1~3\",\"1~3\",\"1~3\",\"1~3\",\"less1\",\"less1\",\"4~8\",\"1~3\",\"less1\",\"4~8\",\"4~8\",\"less1\",\"gt8\",\"gt8\",\"less1\",\"less1\",\"4~8\",\"1~3\",\"1~3\",\"1~3\",\"never\",\"never\",\"1~3\",\"1~3\",\"1~3\",\"1~3\",\"1~3\",\"1~3\",\"4~8\",\"4~8\",\"4~8\",\"1~3\",\"1~3\",\"4~8\",\"4~8\",\"4~8\",\"4~8\",\"never\",\"4~8\",\"4~8\",\"4~8\",\"4~8\",\"less1\",\"less1\",\"1~3\",\"1~3\",\"1~3\",\"less1\",\"less1\",\"less1\",\"less1\",\"less1\",\"less1\",\"less1\",\"less1\",\"less1\",\"4~8\",\"4~8\",\"4~8\",\"4~8\",\"4~8\",\"4~8\",\"4~8\",\"1~3\",\"1~3\",\"1~3\",\"1~3\",\"1~3\",\"1~3\",\"1~3\",\"1~3\",\"less1\",\"less1\",\"less1\",\"less1\",\"less1\",\"less1\",\"less1\",\"less1\",\"1~3\",\"1~3\",\"1~3\",\"gt8\",\"gt8\",\"gt8\",\"4~8\",\"4~8\",\"4~8\",\"4~8\",\"4~8\",\"4~8\",\"1~3\",\"1~3\",\"1~3\",\"1~3\",\"1~3\",\"1~3\",\"1~3\",\"1~3\",\"1~3\",\"1~3\",\"1~3\",\"1~3\"],\"xaxis\":\"x\",\"yaxis\":\"y\",\"type\":\"histogram\"},{\"alignmentgroup\":\"True\",\"bingroup\":\"x\",\"hovertemplate\":\"age=31\\u003cbr\\u003eBar=%{x}\\u003cbr\\u003ecount=%{y}\\u003cextra\\u003e\\u003c\\u002fextra\\u003e\",\"legendgroup\":\"31\",\"marker\":{\"color\":\"#ab63fa\",\"pattern\":{\"shape\":\"\"}},\"name\":\"31\",\"offsetgroup\":\"31\",\"orientation\":\"v\",\"showlegend\":true,\"x\":[\"never\",\"less1\",\"gt8\",\"4~8\",\"4~8\",\"4~8\",\"1~3\",\"1~3\",\"1~3\",\"1~3\",\"1~3\",\"1~3\",\"less1\",\"less1\",\"less1\",\"1~3\",\"1~3\",\"less1\",\"4~8\",\"4~8\",\"less1\",\"less1\",\"1~3\",\"1~3\",\"1~3\",\"never\",\"1~3\",\"never\",\"never\",\"never\",\"less1\",\"less1\",\"less1\",\"less1\",\"1~3\",\"1~3\",\"1~3\",\"1~3\",\"4~8\",\"never\",\"less1\",\"4~8\",\"4~8\",\"1~3\",\"1~3\",\"less1\",\"gt8\",\"gt8\",\"less1\",\"never\",\"never\",\"never\",\"never\",\"never\",\"less1\",\"1~3\",\"1~3\",\"4~8\",\"4~8\",\"1~3\",\"1~3\",\"less1\",\"less1\",\"less1\",\"less1\",\"never\",\"never\",\"never\",\"never\",\"never\",\"never\",\"never\",\"less1\",\"less1\",\"less1\",\"less1\",\"4~8\",\"4~8\",\"4~8\",\"4~8\",\"never\",\"never\",\"less1\",\"less1\",\"less1\",\"less1\",\"less1\",\"less1\",\"less1\",\"never\",\"1~3\",\"1~3\",\"less1\",\"less1\",\"less1\",\"never\",\"never\",\"never\",\"1~3\",\"1~3\",\"1~3\",\"1~3\",\"1~3\",\"1~3\",\"1~3\",\"less1\",\"less1\",\"less1\",\"1~3\",\"1~3\",\"1~3\",\"1~3\",\"1~3\",\"1~3\",\"1~3\",\"1~3\",\"1~3\",\"1~3\",\"1~3\",\"1~3\",\"1~3\",\"1~3\",\"1~3\",\"less1\",\"less1\"],\"xaxis\":\"x\",\"yaxis\":\"y\",\"type\":\"histogram\"},{\"alignmentgroup\":\"True\",\"bingroup\":\"x\",\"hovertemplate\":\"age=50plus\\u003cbr\\u003eBar=%{x}\\u003cbr\\u003ecount=%{y}\\u003cextra\\u003e\\u003c\\u002fextra\\u003e\",\"legendgroup\":\"50plus\",\"marker\":{\"color\":\"#FFA15A\",\"pattern\":{\"shape\":\"\"}},\"name\":\"50plus\",\"offsetgroup\":\"50plus\",\"orientation\":\"v\",\"showlegend\":true,\"x\":[\"never\",\"never\",\"1~3\",\"1~3\",\"1~3\",\"1~3\",\"1~3\",\"1~3\",\"never\",\"1~3\",\"1~3\",\"never\",\"never\",\"never\",\"never\",\"gt8\",\"gt8\",\"gt8\",\"less1\",\"less1\",\"4~8\",\"4~8\",\"4~8\",\"1~3\",\"1~3\",\"less1\",\"less1\",\"1~3\",\"4~8\",null,\"never\",\"1~3\",\"1~3\",\"1~3\",\"4~8\",\"4~8\",\"less1\",\"1~3\",\"4~8\",\"4~8\",\"less1\",\"less1\",\"less1\",\"1~3\",\"1~3\",\"1~3\",\"1~3\",\"1~3\",\"1~3\",\"1~3\",\"less1\",\"never\",\"1~3\",\"1~3\",\"1~3\",\"1~3\",\"never\",\"never\",\"never\",\"never\",\"never\",\"1~3\",\"1~3\",\"1~3\",\"1~3\",\"1~3\",\"1~3\",\"1~3\",\"1~3\",\"less1\",\"less1\",\"less1\",\"less1\",\"less1\",\"less1\",\"less1\",\"less1\",\"less1\",\"less1\",\"less1\",\"less1\",\"less1\",\"never\",\"never\"],\"xaxis\":\"x\",\"yaxis\":\"y\",\"type\":\"histogram\"},{\"alignmentgroup\":\"True\",\"bingroup\":\"x\",\"hovertemplate\":\"age=41\\u003cbr\\u003eBar=%{x}\\u003cbr\\u003ecount=%{y}\\u003cextra\\u003e\\u003c\\u002fextra\\u003e\",\"legendgroup\":\"41\",\"marker\":{\"color\":\"#19d3f3\",\"pattern\":{\"shape\":\"\"}},\"name\":\"41\",\"offsetgroup\":\"41\",\"orientation\":\"v\",\"showlegend\":true,\"x\":[\"less1\",\"less1\",\"less1\",\"never\",\"never\",null,\"1~3\",\"1~3\",\"1~3\",\"1~3\",\"less1\",\"less1\",\"less1\",\"less1\",\"less1\",\"less1\",\"less1\",\"less1\",\"less1\",\"less1\",\"less1\",\"1~3\",\"1~3\",\"less1\",\"less1\",\"less1\",\"less1\",\"1~3\",\"1~3\",\"less1\",\"less1\",\"never\",\"4~8\",\"4~8\",\"4~8\",\"less1\",\"less1\",\"1~3\",\"never\",\"less1\",\"less1\",\"never\",\"less1\",\"less1\",\"less1\",\"less1\",null,\"less1\",\"less1\",\"less1\",\"1~3\",\"1~3\",\"1~3\",\"1~3\",\"1~3\",\"1~3\",\"less1\",\"never\",\"never\",\"1~3\",\"1~3\",\"1~3\",\"less1\",\"less1\",\"less1\",\"less1\",\"less1\",\"less1\",\"less1\",\"less1\",\"less1\",\"less1\",\"less1\",\"less1\",\"less1\",\"less1\",\"never\"],\"xaxis\":\"x\",\"yaxis\":\"y\",\"type\":\"histogram\"},{\"alignmentgroup\":\"True\",\"bingroup\":\"x\",\"hovertemplate\":\"age=36\\u003cbr\\u003eBar=%{x}\\u003cbr\\u003ecount=%{y}\\u003cextra\\u003e\\u003c\\u002fextra\\u003e\",\"legendgroup\":\"36\",\"marker\":{\"color\":\"#FF6692\",\"pattern\":{\"shape\":\"\"}},\"name\":\"36\",\"offsetgroup\":\"36\",\"orientation\":\"v\",\"showlegend\":true,\"x\":[\"less1\",\"less1\",\"less1\",\"less1\",\"1~3\",\"1~3\",\"1~3\",\"1~3\",\"4~8\",\"4~8\",\"4~8\",\"never\",\"4~8\",\"4~8\",\"4~8\",null,null,\"less1\",\"less1\",\"less1\",\"less1\",\"less1\",\"less1\",\"less1\",\"less1\",\"1~3\",\"1~3\",\"less1\",\"never\",\"1~3\",\"1~3\",\"never\",\"never\",\"never\",\"never\",\"1~3\",\"less1\",\"never\",\"never\",\"never\",\"never\",\"never\",\"less1\",\"less1\",\"less1\",\"less1\",\"less1\",\"less1\",\"1~3\",\"1~3\",\"1~3\",\"1~3\",\"1~3\",\"never\",\"less1\",\"less1\",\"never\",\"never\",\"never\",\"never\",\"never\",\"less1\",\"less1\"],\"xaxis\":\"x\",\"yaxis\":\"y\",\"type\":\"histogram\"},{\"alignmentgroup\":\"True\",\"bingroup\":\"x\",\"hovertemplate\":\"age=below21\\u003cbr\\u003eBar=%{x}\\u003cbr\\u003ecount=%{y}\\u003cextra\\u003e\\u003c\\u002fextra\\u003e\",\"legendgroup\":\"below21\",\"marker\":{\"color\":\"#B6E880\",\"pattern\":{\"shape\":\"\"}},\"name\":\"below21\",\"offsetgroup\":\"below21\",\"orientation\":\"v\",\"showlegend\":true,\"x\":[\"never\",\"never\",\"never\",\"never\",\"never\",\"never\",\"never\",\"never\",\"never\",\"never\",\"never\",\"1~3\",\"1~3\",\"never\",\"never\",\"never\",\"never\",\"never\",\"never\",\"never\",\"less1\",\"less1\",\"less1\",\"less1\",\"less1\",\"less1\",\"never\",\"gt8\",\"gt8\",\"never\",\"never\",\"never\",\"never\",\"never\",\"never\",\"never\"],\"xaxis\":\"x\",\"yaxis\":\"y\",\"type\":\"histogram\"}],                        {\"template\":{\"data\":{\"histogram2dcontour\":[{\"type\":\"histogram2dcontour\",\"colorbar\":{\"outlinewidth\":0,\"ticks\":\"\"},\"colorscale\":[[0.0,\"#0d0887\"],[0.1111111111111111,\"#46039f\"],[0.2222222222222222,\"#7201a8\"],[0.3333333333333333,\"#9c179e\"],[0.4444444444444444,\"#bd3786\"],[0.5555555555555556,\"#d8576b\"],[0.6666666666666666,\"#ed7953\"],[0.7777777777777778,\"#fb9f3a\"],[0.8888888888888888,\"#fdca26\"],[1.0,\"#f0f921\"]]}],\"choropleth\":[{\"type\":\"choropleth\",\"colorbar\":{\"outlinewidth\":0,\"ticks\":\"\"}}],\"histogram2d\":[{\"type\":\"histogram2d\",\"colorbar\":{\"outlinewidth\":0,\"ticks\":\"\"},\"colorscale\":[[0.0,\"#0d0887\"],[0.1111111111111111,\"#46039f\"],[0.2222222222222222,\"#7201a8\"],[0.3333333333333333,\"#9c179e\"],[0.4444444444444444,\"#bd3786\"],[0.5555555555555556,\"#d8576b\"],[0.6666666666666666,\"#ed7953\"],[0.7777777777777778,\"#fb9f3a\"],[0.8888888888888888,\"#fdca26\"],[1.0,\"#f0f921\"]]}],\"heatmap\":[{\"type\":\"heatmap\",\"colorbar\":{\"outlinewidth\":0,\"ticks\":\"\"},\"colorscale\":[[0.0,\"#0d0887\"],[0.1111111111111111,\"#46039f\"],[0.2222222222222222,\"#7201a8\"],[0.3333333333333333,\"#9c179e\"],[0.4444444444444444,\"#bd3786\"],[0.5555555555555556,\"#d8576b\"],[0.6666666666666666,\"#ed7953\"],[0.7777777777777778,\"#fb9f3a\"],[0.8888888888888888,\"#fdca26\"],[1.0,\"#f0f921\"]]}],\"heatmapgl\":[{\"type\":\"heatmapgl\",\"colorbar\":{\"outlinewidth\":0,\"ticks\":\"\"},\"colorscale\":[[0.0,\"#0d0887\"],[0.1111111111111111,\"#46039f\"],[0.2222222222222222,\"#7201a8\"],[0.3333333333333333,\"#9c179e\"],[0.4444444444444444,\"#bd3786\"],[0.5555555555555556,\"#d8576b\"],[0.6666666666666666,\"#ed7953\"],[0.7777777777777778,\"#fb9f3a\"],[0.8888888888888888,\"#fdca26\"],[1.0,\"#f0f921\"]]}],\"contourcarpet\":[{\"type\":\"contourcarpet\",\"colorbar\":{\"outlinewidth\":0,\"ticks\":\"\"}}],\"contour\":[{\"type\":\"contour\",\"colorbar\":{\"outlinewidth\":0,\"ticks\":\"\"},\"colorscale\":[[0.0,\"#0d0887\"],[0.1111111111111111,\"#46039f\"],[0.2222222222222222,\"#7201a8\"],[0.3333333333333333,\"#9c179e\"],[0.4444444444444444,\"#bd3786\"],[0.5555555555555556,\"#d8576b\"],[0.6666666666666666,\"#ed7953\"],[0.7777777777777778,\"#fb9f3a\"],[0.8888888888888888,\"#fdca26\"],[1.0,\"#f0f921\"]]}],\"surface\":[{\"type\":\"surface\",\"colorbar\":{\"outlinewidth\":0,\"ticks\":\"\"},\"colorscale\":[[0.0,\"#0d0887\"],[0.1111111111111111,\"#46039f\"],[0.2222222222222222,\"#7201a8\"],[0.3333333333333333,\"#9c179e\"],[0.4444444444444444,\"#bd3786\"],[0.5555555555555556,\"#d8576b\"],[0.6666666666666666,\"#ed7953\"],[0.7777777777777778,\"#fb9f3a\"],[0.8888888888888888,\"#fdca26\"],[1.0,\"#f0f921\"]]}],\"mesh3d\":[{\"type\":\"mesh3d\",\"colorbar\":{\"outlinewidth\":0,\"ticks\":\"\"}}],\"scatter\":[{\"fillpattern\":{\"fillmode\":\"overlay\",\"size\":10,\"solidity\":0.2},\"type\":\"scatter\"}],\"parcoords\":[{\"type\":\"parcoords\",\"line\":{\"colorbar\":{\"outlinewidth\":0,\"ticks\":\"\"}}}],\"scatterpolargl\":[{\"type\":\"scatterpolargl\",\"marker\":{\"colorbar\":{\"outlinewidth\":0,\"ticks\":\"\"}}}],\"bar\":[{\"error_x\":{\"color\":\"#2a3f5f\"},\"error_y\":{\"color\":\"#2a3f5f\"},\"marker\":{\"line\":{\"color\":\"#E5ECF6\",\"width\":0.5},\"pattern\":{\"fillmode\":\"overlay\",\"size\":10,\"solidity\":0.2}},\"type\":\"bar\"}],\"scattergeo\":[{\"type\":\"scattergeo\",\"marker\":{\"colorbar\":{\"outlinewidth\":0,\"ticks\":\"\"}}}],\"scatterpolar\":[{\"type\":\"scatterpolar\",\"marker\":{\"colorbar\":{\"outlinewidth\":0,\"ticks\":\"\"}}}],\"histogram\":[{\"marker\":{\"pattern\":{\"fillmode\":\"overlay\",\"size\":10,\"solidity\":0.2}},\"type\":\"histogram\"}],\"scattergl\":[{\"type\":\"scattergl\",\"marker\":{\"colorbar\":{\"outlinewidth\":0,\"ticks\":\"\"}}}],\"scatter3d\":[{\"type\":\"scatter3d\",\"line\":{\"colorbar\":{\"outlinewidth\":0,\"ticks\":\"\"}},\"marker\":{\"colorbar\":{\"outlinewidth\":0,\"ticks\":\"\"}}}],\"scattermapbox\":[{\"type\":\"scattermapbox\",\"marker\":{\"colorbar\":{\"outlinewidth\":0,\"ticks\":\"\"}}}],\"scatterternary\":[{\"type\":\"scatterternary\",\"marker\":{\"colorbar\":{\"outlinewidth\":0,\"ticks\":\"\"}}}],\"scattercarpet\":[{\"type\":\"scattercarpet\",\"marker\":{\"colorbar\":{\"outlinewidth\":0,\"ticks\":\"\"}}}],\"carpet\":[{\"aaxis\":{\"endlinecolor\":\"#2a3f5f\",\"gridcolor\":\"white\",\"linecolor\":\"white\",\"minorgridcolor\":\"white\",\"startlinecolor\":\"#2a3f5f\"},\"baxis\":{\"endlinecolor\":\"#2a3f5f\",\"gridcolor\":\"white\",\"linecolor\":\"white\",\"minorgridcolor\":\"white\",\"startlinecolor\":\"#2a3f5f\"},\"type\":\"carpet\"}],\"table\":[{\"cells\":{\"fill\":{\"color\":\"#EBF0F8\"},\"line\":{\"color\":\"white\"}},\"header\":{\"fill\":{\"color\":\"#C8D4E3\"},\"line\":{\"color\":\"white\"}},\"type\":\"table\"}],\"barpolar\":[{\"marker\":{\"line\":{\"color\":\"#E5ECF6\",\"width\":0.5},\"pattern\":{\"fillmode\":\"overlay\",\"size\":10,\"solidity\":0.2}},\"type\":\"barpolar\"}],\"pie\":[{\"automargin\":true,\"type\":\"pie\"}]},\"layout\":{\"autotypenumbers\":\"strict\",\"colorway\":[\"#636efa\",\"#EF553B\",\"#00cc96\",\"#ab63fa\",\"#FFA15A\",\"#19d3f3\",\"#FF6692\",\"#B6E880\",\"#FF97FF\",\"#FECB52\"],\"font\":{\"color\":\"#2a3f5f\"},\"hovermode\":\"closest\",\"hoverlabel\":{\"align\":\"left\"},\"paper_bgcolor\":\"white\",\"plot_bgcolor\":\"#E5ECF6\",\"polar\":{\"bgcolor\":\"#E5ECF6\",\"angularaxis\":{\"gridcolor\":\"white\",\"linecolor\":\"white\",\"ticks\":\"\"},\"radialaxis\":{\"gridcolor\":\"white\",\"linecolor\":\"white\",\"ticks\":\"\"}},\"ternary\":{\"bgcolor\":\"#E5ECF6\",\"aaxis\":{\"gridcolor\":\"white\",\"linecolor\":\"white\",\"ticks\":\"\"},\"baxis\":{\"gridcolor\":\"white\",\"linecolor\":\"white\",\"ticks\":\"\"},\"caxis\":{\"gridcolor\":\"white\",\"linecolor\":\"white\",\"ticks\":\"\"}},\"coloraxis\":{\"colorbar\":{\"outlinewidth\":0,\"ticks\":\"\"}},\"colorscale\":{\"sequential\":[[0.0,\"#0d0887\"],[0.1111111111111111,\"#46039f\"],[0.2222222222222222,\"#7201a8\"],[0.3333333333333333,\"#9c179e\"],[0.4444444444444444,\"#bd3786\"],[0.5555555555555556,\"#d8576b\"],[0.6666666666666666,\"#ed7953\"],[0.7777777777777778,\"#fb9f3a\"],[0.8888888888888888,\"#fdca26\"],[1.0,\"#f0f921\"]],\"sequentialminus\":[[0.0,\"#0d0887\"],[0.1111111111111111,\"#46039f\"],[0.2222222222222222,\"#7201a8\"],[0.3333333333333333,\"#9c179e\"],[0.4444444444444444,\"#bd3786\"],[0.5555555555555556,\"#d8576b\"],[0.6666666666666666,\"#ed7953\"],[0.7777777777777778,\"#fb9f3a\"],[0.8888888888888888,\"#fdca26\"],[1.0,\"#f0f921\"]],\"diverging\":[[0,\"#8e0152\"],[0.1,\"#c51b7d\"],[0.2,\"#de77ae\"],[0.3,\"#f1b6da\"],[0.4,\"#fde0ef\"],[0.5,\"#f7f7f7\"],[0.6,\"#e6f5d0\"],[0.7,\"#b8e186\"],[0.8,\"#7fbc41\"],[0.9,\"#4d9221\"],[1,\"#276419\"]]},\"xaxis\":{\"gridcolor\":\"white\",\"linecolor\":\"white\",\"ticks\":\"\",\"title\":{\"standoff\":15},\"zerolinecolor\":\"white\",\"automargin\":true,\"zerolinewidth\":2},\"yaxis\":{\"gridcolor\":\"white\",\"linecolor\":\"white\",\"ticks\":\"\",\"title\":{\"standoff\":15},\"zerolinecolor\":\"white\",\"automargin\":true,\"zerolinewidth\":2},\"scene\":{\"xaxis\":{\"backgroundcolor\":\"#E5ECF6\",\"gridcolor\":\"white\",\"linecolor\":\"white\",\"showbackground\":true,\"ticks\":\"\",\"zerolinecolor\":\"white\",\"gridwidth\":2},\"yaxis\":{\"backgroundcolor\":\"#E5ECF6\",\"gridcolor\":\"white\",\"linecolor\":\"white\",\"showbackground\":true,\"ticks\":\"\",\"zerolinecolor\":\"white\",\"gridwidth\":2},\"zaxis\":{\"backgroundcolor\":\"#E5ECF6\",\"gridcolor\":\"white\",\"linecolor\":\"white\",\"showbackground\":true,\"ticks\":\"\",\"zerolinecolor\":\"white\",\"gridwidth\":2}},\"shapedefaults\":{\"line\":{\"color\":\"#2a3f5f\"}},\"annotationdefaults\":{\"arrowcolor\":\"#2a3f5f\",\"arrowhead\":0,\"arrowwidth\":1},\"geo\":{\"bgcolor\":\"white\",\"landcolor\":\"#E5ECF6\",\"subunitcolor\":\"white\",\"showland\":true,\"showlakes\":true,\"lakecolor\":\"white\"},\"title\":{\"x\":0.05},\"mapbox\":{\"style\":\"light\"}}},\"xaxis\":{\"anchor\":\"y\",\"domain\":[0.0,1.0],\"title\":{\"text\":\"Bar Visits\"},\"categoryorder\":\"array\",\"categoryarray\":[\"1~3\",\"less1\",\"never\",\"4~8\",\"gt8\"]},\"yaxis\":{\"anchor\":\"x\",\"domain\":[0.0,1.0],\"title\":{\"text\":\"Count\"}},\"legend\":{\"title\":{\"text\":\"Age\"},\"tracegroupgap\":0},\"margin\":{\"t\":60},\"barmode\":\"relative\",\"title\":{\"text\":\"Bar coupon acceptance count by age & bar visits\"}},                        {\"responsive\": true}                    ).then(function(){\n",
              "                            \n",
              "var gd = document.getElementById('2c19dccd-771b-4bde-a5b3-bf6d5fa660a4');\n",
              "var x = new MutationObserver(function (mutations, observer) {{\n",
              "        var display = window.getComputedStyle(gd).display;\n",
              "        if (!display || display === 'none') {{\n",
              "            console.log([gd, 'removed!']);\n",
              "            Plotly.purge(gd);\n",
              "            observer.disconnect();\n",
              "        }}\n",
              "}});\n",
              "\n",
              "// Listen for the removal of the full notebook cells\n",
              "var notebookContainer = gd.closest('#notebook-container');\n",
              "if (notebookContainer) {{\n",
              "    x.observe(notebookContainer, {childList: true});\n",
              "}}\n",
              "\n",
              "// Listen for the clearing of the current output cell\n",
              "var outputEl = gd.closest('.output');\n",
              "if (outputEl) {{\n",
              "    x.observe(outputEl, {childList: true});\n",
              "}}\n",
              "\n",
              "                        })                };                            </script>        </div>\n",
              "</body>\n",
              "</html>"
            ]
          },
          "metadata": {}
        }
      ]
    },
    {
      "cell_type": "code",
      "source": [
        "#Acceptance rate in % for driver those who went to a bar 3 or more times a month and age above 25\n",
        "over_25_age_1_more_accp = data_bar.query('Bar in (\"1~3\",\"4~8\",\"gt8\") and '\n",
        "                                            'age not in (\"21\",\"below21\")')['Y'].value_counts()\n",
        "over_25_age_1_more_accp_rate = calculate_accp_rate(over_25_age_1_more_accp)\n",
        "\n",
        "#Acceptance rate in % for driver those who went to a bar 3 or more times a month and age below 25\n",
        "below_25_age_1_more_accp = data_bar.query('Bar in (\"1~3\",\"4~8\",\"gt8\") and '\n",
        "                                            'age in (\"21\",\"below21\")')['Y'].value_counts()\n",
        "below_25_age_1_more_accp_rate = calculate_accp_rate(below_25_age_1_more_accp)\n",
        "\n",
        "#Acceptance rate in % for driver those who went to a bar less than 1 times a month and age above 25\n",
        "over_25_age_below_1_accp = data_bar.query('Bar not in (\"1~3\",\"4~8\",\"gt8\") and age not in (\"21\",\"below21\")')['Y'].value_counts()\n",
        "over_25_age_below_1_fewer_accp_rate = calculate_accp_rate(over_25_age_below_1_accp)\n",
        "\n",
        "#Acceptance rate in % for driver those who went to a bar less than 1 times a month and age below 25\n",
        "below_25_age_below_1_accp = data_bar.query('Bar not in (\"1~3\",\"4~8\",\"gt8\") and age in (\"21\",\"below21\")')['Y'].value_counts()\n",
        "below_25_age_below_1_accp_rate = calculate_accp_rate(below_25_age_below_1_accp)\n",
        "\n",
        "print(f\"{over_25_age_1_more_accp_rate}% bar coupon accepted by driver over 25 and those who went to more than once to bar in a month.\")\n",
        "print(f\"{below_25_age_1_more_accp_rate}% bar coupon accepted by driver less than 25 and those who went to more than once to a bar in a month.\")\n",
        "print(f\"{over_25_age_below_1_fewer_accp_rate}% bar coupon accepted by driver over 25 and those who went to less than one or never to bar in a month.\")\n",
        "print(f\"{below_25_age_below_1_accp_rate}% bar coupon accepted by driver less than 25 and those who went less than one or never to bar in a month.\")\n",
        "\n"
      ],
      "metadata": {
        "colab": {
          "base_uri": "https://localhost:8080/"
        },
        "id": "S1SHBvTz6pJy",
        "outputId": "398c3ee5-d395-48dc-8195-b467f347a256"
      },
      "execution_count": null,
      "outputs": [
        {
          "output_type": "stream",
          "name": "stdout",
          "text": [
            "69.52% bar coupon accepted by driver over 25 and those who went to more than once to bar in a month.\n",
            "67.05% bar coupon accepted by driver less than 25 and those who went to more than once to a bar in a month.\n",
            "26.35% bar coupon accepted by driver over 25 and those who went to less than one or never to bar in a month.\n",
            "39.33% bar coupon accepted by driver less than 25 and those who went less than one or never to bar in a month.\n"
          ]
        }
      ]
    },
    {
      "cell_type": "markdown",
      "metadata": {
        "id": "FXNyGBRR9f5x"
      },
      "source": [
        "5. Use the same process to compare the acceptance rate between drivers who go to bars more than once a month and had passengers that were not a kid and had occupations other than farming, fishing, or forestry.\n"
      ]
    },
    {
      "cell_type": "code",
      "source": [
        "data_bar['passanger'].value_counts()"
      ],
      "metadata": {
        "colab": {
          "base_uri": "https://localhost:8080/"
        },
        "id": "5Z1mhjDEW-Ds",
        "outputId": "91f9f0fe-efe8-47ba-bff9-69b7675149aa"
      },
      "execution_count": null,
      "outputs": [
        {
          "output_type": "execute_result",
          "data": {
            "text/plain": [
              "Alone        1200\n",
              "Friend(s)     337\n",
              "Partner       274\n",
              "Kid(s)        206\n",
              "Name: passanger, dtype: int64"
            ]
          },
          "metadata": {},
          "execution_count": 17
        }
      ]
    },
    {
      "cell_type": "code",
      "source": [
        "data_bar['occupation'].value_counts()"
      ],
      "metadata": {
        "id": "YjFz2fkNXwZ2",
        "colab": {
          "base_uri": "https://localhost:8080/"
        },
        "outputId": "65757691-b1b8-4c7a-b2ee-87af65377704"
      },
      "execution_count": null,
      "outputs": [
        {
          "output_type": "execute_result",
          "data": {
            "text/plain": [
              "Unemployed                                   301\n",
              "Student                                      251\n",
              "Computer & Mathematical                      232\n",
              "Sales & Related                              178\n",
              "Education&Training&Library                   140\n",
              "Management                                   119\n",
              "Office & Administrative Support              105\n",
              "Arts Design Entertainment Sports & Media     100\n",
              "Business & Financial                          89\n",
              "Retired                                       75\n",
              "Food Preparation & Serving Related            48\n",
              "Community & Social Services                   44\n",
              "Healthcare Support                            44\n",
              "Healthcare Practitioners & Technical          41\n",
              "Transportation & Material Moving              35\n",
              "Legal                                         34\n",
              "Architecture & Engineering                    27\n",
              "Personal Care & Service                       27\n",
              "Protective Service                            27\n",
              "Construction & Extraction                     24\n",
              "Life Physical Social Science                  24\n",
              "Installation Maintenance & Repair             18\n",
              "Production Occupations                        18\n",
              "Farming Fishing & Forestry                     9\n",
              "Building & Grounds Cleaning & Maintenance      7\n",
              "Name: occupation, dtype: int64"
            ]
          },
          "metadata": {},
          "execution_count": 18
        }
      ]
    },
    {
      "cell_type": "code",
      "source": [
        "#Occupation wise bar coupon acceptance count with out any kids passanger\n",
        "data_bar.query('Y==1 and passanger !=\"kid(s)\"')['occupation'].value_counts().plot(kind='bar',rot=90, color ='green',legend= True)\n",
        "plt.title('Occupation wise bar coupon acceptance count')\n",
        "plt.ylabel('Count')\n",
        "plt.show()"
      ],
      "metadata": {
        "colab": {
          "base_uri": "https://localhost:8080/",
          "height": 747
        },
        "id": "RXWXTaHVjlj5",
        "outputId": "221b13f9-7547-4e36-b4a8-8c1fbb0e3c3c"
      },
      "execution_count": null,
      "outputs": [
        {
          "output_type": "display_data",
          "data": {
            "text/plain": [
              "<Figure size 640x480 with 1 Axes>"
            ],
            "image/png": "[encoded data removed]"
          },
          "metadata": {}
        }
      ]
    },
    {
      "cell_type": "code",
      "source": [
        "#Acceptance rate in % for driver those who went to a bar more than once a month and occupations other than farming, fishing, or forestry\n",
        "more_1_visit_other_occp_accp = data_bar.query('Bar in (\"1~3\",\"4~8\",\"gt8\") and '\n",
        "                                              'passanger != \"kid(s)\" and occupation != \"Farming Fishing & Forestry\"')['Y'].value_counts()\n",
        "more_1_visit_other_occp_accp_rate = calculate_accp_rate(more_1_visit_other_occp_accp)\n",
        "\n",
        "#Acceptance rate in % for driver those who went to a bar less than once a month and occupations other than farming, fishing, or forestry\n",
        "less_1_visit_other_occp_accp = data_bar.query('Bar not in (\"1~3\",\"4~8\",\"gt8\") and passanger != \"kid(s)\" and occupation != \"Farming Fishing & Forestry\"')['Y'].value_counts()\n",
        "less_1_visit_other_occp_accp_rate = calculate_accp_rate(less_1_visit_other_occp_accp)\n",
        "\n",
        "#Acceptance rate  for driver those who went to a bar more than once a month and occupations in farming, fishing, or forestry\n",
        "more_1_visit_farm_occp_accp = data_bar.query('Bar in (\"1~3\",\"4~8\",\"gt8\") and '\n",
        "                                              'passanger != \"kid(s)\"and occupation == \"Farming Fishing & Forestry\" ')['Y'].value_counts()\n",
        "\n",
        "#Acceptance rate in % for driver those who went to a bar less than once a month and occupations in farming, fishing, or forestry\n",
        "less_1_visit_farm_occp_accp = data_bar.query('Bar not in (\"1~3\",\"4~8\",\"gt8\") and '\n",
        "                                              'passanger != \"kid(s)\" and occupation == \"Farming Fishing & Forestry\"')['Y'].value_counts()\n",
        "less_1_visit_farm_occp_accp_rate = calculate_accp_rate(less_1_visit_farm_occp_accp)\n",
        "\n",
        "print(f\"{more_1_visit_other_occp_accp_rate}% bar coupon accepted by driver those who went to more than once to bar in a month and in other than Farming Fishing & Forestry occupation.\")\n",
        "print(f\"{less_1_visit_other_occp_accp_rate}% bar coupon accepted by driver those who went to less than once to bar in a month and in other than Farming Fishing & Forestry occupation.\")\n",
        "print(f\"{more_1_visit_farm_occp_accp.sum()}% bar coupon accepted by driver those who went to more than once to bar in a month and in Farming Fishing & Forestry occupation.\")\n",
        "print(f\"{less_1_visit_farm_occp_accp_rate}% bar coupon accepted by driver those who went to less than once to bar in a month and in Farming Fishing & Forestry occupation.\")\n"
      ],
      "metadata": {
        "colab": {
          "base_uri": "https://localhost:8080/"
        },
        "id": "HLKiGTaSEsX-",
        "outputId": "2d80fc59-503b-4559-8874-e07868ee6b28"
      },
      "execution_count": null,
      "outputs": [
        {
          "output_type": "stream",
          "name": "stdout",
          "text": [
            "68.79% bar coupon accepted by driver those who went to more than once to bar in a month and in other than Farming Fishing & Forestry occupation.\n",
            "29.25% bar coupon accepted by driver those who went to less than once to bar in a month and in other than Farming Fishing & Forestry occupation.\n",
            "0% bar coupon accepted by driver those who went to more than once to bar in a month and in Farming Fishing & Forestry occupation.\n",
            "44.44% bar coupon accepted by driver those who went to less than once to bar in a month and in Farming Fishing & Forestry occupation.\n"
          ]
        }
      ]
    },
    {
      "cell_type": "markdown",
      "metadata": {
        "id": "d8v_FagP9f5x"
      },
      "source": [
        "6. Compare the acceptance rates between those drivers who:\n",
        "\n",
        "- go to bars more than once a month, had passengers that were not a kid, and were not widowed *OR*\n",
        "- go to bars more than once a month and are under the age of 30 *OR*\n",
        "- go to cheap restaurants more than 4 times a month and income is less than 50K.\n",
        "\n"
      ]
    },
    {
      "cell_type": "code",
      "execution_count": null,
      "metadata": {
        "id": "FRa3jUI-9f5x",
        "colab": {
          "base_uri": "https://localhost:8080/"
        },
        "outputId": "5bf605bd-e484-4662-fa86-7f333d51e08a"
      },
      "outputs": [
        {
          "output_type": "stream",
          "name": "stdout",
          "text": [
            "68.79% bar coupon accepted by driver those who go to bars more than once a month, had passengers that were not a kid, and were not widowed.\n",
            "72.17% bar coupon accepted by driver those who go to bars more than once a month and are under the age of 30.\n",
            "45.35% bar coupon accepted by driver those who go to cheap restaurants more than 4 times a month and income is under 50K income.\n"
          ]
        }
      ],
      "source": [
        "#Acceptance rate in % for driver those who go to bars more than once a month, had passengers that were not a kid, and were not widowed\n",
        "more_1_visit_not_widow_accp = data_bar.query('Bar in (\"1~3\",\"4~8\",\"gt8\") and '\n",
        "                                              'passanger != \"kid(s)\" and maritalStatus != \"Widowed\"')['Y'].value_counts()\n",
        "more_1_visit_not_widow_accp_rate = calculate_accp_rate(more_1_visit_not_widow_accp)\n",
        "\n",
        "#Acceptance rate in % for driver those who go to bars more than once a month and are under the age of 30\n",
        "more_1_visit_under_30_accp = data_bar.query('Bar in (\"1~3\",\"4~8\",\"gt8\") and '\n",
        "                                              'age in (\"21\",\"below21\",\"26\")')['Y'].value_counts()\n",
        "more_1_visit_under_30_accp_rate = calculate_accp_rate(more_1_visit_under_30_accp)\n",
        "\n",
        "\n",
        "#Acceptance rate in % for driver those who go to cheap restaurants more than 4 times a month and income is less than 50K\n",
        "more_4__cheap_restaurants_visit_under_50k_accp = data_bar.query('RestaurantLessThan20 in (\"4~8\",\"gt8\") and '\n",
        "                                              'income in (\"$25000 - $37499\",\"$12500 - $24999\",\"$37500 - $49999\",\"Less than $12500\")')['Y'].value_counts()\n",
        "more_4__cheap_restaurants_visit_under_50k_accp_rate = calculate_accp_rate(more_4__cheap_restaurants_visit_under_50k_accp)\n",
        "\n",
        "\n",
        "print(f\"{more_1_visit_not_widow_accp_rate}% bar coupon accepted by driver those who go to bars more than once a month, had passengers that were not a kid, and were not widowed.\")\n",
        "print(f\"{more_1_visit_under_30_accp_rate}% bar coupon accepted by driver those who go to bars more than once a month and are under the age of 30.\")\n",
        "print(f\"{more_4__cheap_restaurants_visit_under_50k_accp_rate}% bar coupon accepted by driver those who go to cheap restaurants more than 4 times a month and income is under 50K income.\")\n"
      ]
    },
    {
      "cell_type": "markdown",
      "metadata": {
        "id": "TUi9p7tk9f5x"
      },
      "source": [
        "7.  Based on these observations, what do you hypothesize about drivers who accepted the bar coupons?"
      ]
    },
    {
      "cell_type": "markdown",
      "source": [
        "**Hypothesis based on various exploration about bar coupon acceptance**\n",
        "\n",
        "**Hypothesis 1 :** - Drivers who go to a bar more than 3 times a month have a significantly higher bar coupon acceptance rate than those who got to a bar less than 3 times a month.\n",
        "\n",
        "**Hypothesis 2 :** - Bar visit habbit has positive influence than driver's age in bar coupon acceptance.\n",
        "\n",
        "**Hypothesis 3 :** - Drivers travel with kids not at all influence to bar coupon accepting. Occupation - Farming Fishing & Forestry occupation has less influence to bar coupon acceptance rate where as over all rest of occupation has more influence.\n",
        "\n",
        "**Hypothesis 4 :** - Bar visit habbit has positive influence than driver's age or marital status in bar coupon acceptance. Cheap restaurants visit habbit with less than 50K income has reasonable impact to bar coupon acceptance rate."
      ],
      "metadata": {
        "id": "NRt_PBXWDPoQ"
      }
    },
    {
      "cell_type": "markdown",
      "metadata": {
        "id": "GcFMAOio9f5x"
      },
      "source": [
        "### Independent Investigation\n",
        "\n",
        "Using the bar coupon example as motivation, you are to explore one of the other coupon groups and try to determine the characteristics of passengers who accept the coupons.  "
      ]
    },
    {
      "cell_type": "code",
      "execution_count": null,
      "metadata": {
        "id": "F6ESWQt89f5y",
        "colab": {
          "base_uri": "https://localhost:8080/",
          "height": 342
        },
        "outputId": "b441560c-ebfa-4dda-8c05-b4dda034fad2"
      },
      "outputs": [
        {
          "output_type": "execute_result",
          "data": {
            "text/plain": [
              "        destination  passanger weather  temperature  time        coupon  \\\n",
              "1   No Urgent Place  Friend(s)   Sunny           80  10AM  Coffee House   \n",
              "3   No Urgent Place  Friend(s)   Sunny           80   2PM  Coffee House   \n",
              "4   No Urgent Place  Friend(s)   Sunny           80   2PM  Coffee House   \n",
              "12  No Urgent Place     Kid(s)   Sunny           55   6PM  Coffee House   \n",
              "15             Home      Alone   Sunny           80   6PM  Coffee House   \n",
              "\n",
              "   expiration  gender age      maritalStatus  ...  CoffeeHouse CarryAway  \\\n",
              "1          2h  Female  21  Unmarried partner  ...        never       NaN   \n",
              "3          2h  Female  21  Unmarried partner  ...        never       NaN   \n",
              "4          1d  Female  21  Unmarried partner  ...        never       NaN   \n",
              "12         2h  Female  21  Unmarried partner  ...        never       NaN   \n",
              "15         2h  Female  21  Unmarried partner  ...        never       NaN   \n",
              "\n",
              "   RestaurantLessThan20 Restaurant20To50 toCoupon_GEQ5min toCoupon_GEQ15min  \\\n",
              "1                   4~8              1~3                1                 0   \n",
              "3                   4~8              1~3                1                 1   \n",
              "4                   4~8              1~3                1                 1   \n",
              "12                  4~8              1~3                1                 1   \n",
              "15                  4~8              1~3                1                 0   \n",
              "\n",
              "   toCoupon_GEQ25min direction_same direction_opp  Y  \n",
              "1                  0              0             1  0  \n",
              "3                  0              0             1  0  \n",
              "4                  0              0             1  0  \n",
              "12                 0              0             1  1  \n",
              "15                 0              0             1  0  \n",
              "\n",
              "[5 rows x 25 columns]"
            ],
            "text/html": [
              "\n",
              "  <div id=\"df-7dfbbff1-781f-4e3b-8595-0289ae93cf6b\" class=\"colab-df-container\">\n",
              "    <div>\n",
              "<style scoped>\n",
              "    .dataframe tbody tr th:only-of-type {\n",
              "        vertical-align: middle;\n",
              "    }\n",
              "\n",
              "    .dataframe tbody tr th {\n",
              "        vertical-align: top;\n",
              "    }\n",
              "\n",
              "    .dataframe thead th {\n",
              "        text-align: right;\n",
              "    }\n",
              "</style>\n",
              "<table border=\"1\" class=\"dataframe\">\n",
              "  <thead>\n",
              "    <tr style=\"text-align: right;\">\n",
              "      <th></th>\n",
              "      <th>destination</th>\n",
              "      <th>passanger</th>\n",
              "      <th>weather</th>\n",
              "      <th>temperature</th>\n",
              "      <th>time</th>\n",
              "      <th>coupon</th>\n",
              "      <th>expiration</th>\n",
              "      <th>gender</th>\n",
              "      <th>age</th>\n",
              "      <th>maritalStatus</th>\n",
              "      <th>...</th>\n",
              "      <th>CoffeeHouse</th>\n",
              "      <th>CarryAway</th>\n",
              "      <th>RestaurantLessThan20</th>\n",
              "      <th>Restaurant20To50</th>\n",
              "      <th>toCoupon_GEQ5min</th>\n",
              "      <th>toCoupon_GEQ15min</th>\n",
              "      <th>toCoupon_GEQ25min</th>\n",
              "      <th>direction_same</th>\n",
              "      <th>direction_opp</th>\n",
              "      <th>Y</th>\n",
              "    </tr>\n",
              "  </thead>\n",
              "  <tbody>\n",
              "    <tr>\n",
              "      <th>1</th>\n",
              "      <td>No Urgent Place</td>\n",
              "      <td>Friend(s)</td>\n",
              "      <td>Sunny</td>\n",
              "      <td>80</td>\n",
              "      <td>10AM</td>\n",
              "      <td>Coffee House</td>\n",
              "      <td>2h</td>\n",
              "      <td>Female</td>\n",
              "      <td>21</td>\n",
              "      <td>Unmarried partner</td>\n",
              "      <td>...</td>\n",
              "      <td>never</td>\n",
              "      <td>NaN</td>\n",
              "      <td>4~8</td>\n",
              "      <td>1~3</td>\n",
              "      <td>1</td>\n",
              "      <td>0</td>\n",
              "      <td>0</td>\n",
              "      <td>0</td>\n",
              "      <td>1</td>\n",
              "      <td>0</td>\n",
              "    </tr>\n",
              "    <tr>\n",
              "      <th>3</th>\n",
              "      <td>No Urgent Place</td>\n",
              "      <td>Friend(s)</td>\n",
              "      <td>Sunny</td>\n",
              "      <td>80</td>\n",
              "      <td>2PM</td>\n",
              "      <td>Coffee House</td>\n",
              "      <td>2h</td>\n",
              "      <td>Female</td>\n",
              "      <td>21</td>\n",
              "      <td>Unmarried partner</td>\n",
              "      <td>...</td>\n",
              "      <td>never</td>\n",
              "      <td>NaN</td>\n",
              "      <td>4~8</td>\n",
              "      <td>1~3</td>\n",
              "      <td>1</td>\n",
              "      <td>1</td>\n",
              "      <td>0</td>\n",
              "      <td>0</td>\n",
              "      <td>1</td>\n",
              "      <td>0</td>\n",
              "    </tr>\n",
              "    <tr>\n",
              "      <th>4</th>\n",
              "      <td>No Urgent Place</td>\n",
              "      <td>Friend(s)</td>\n",
              "      <td>Sunny</td>\n",
              "      <td>80</td>\n",
              "      <td>2PM</td>\n",
              "      <td>Coffee House</td>\n",
              "      <td>1d</td>\n",
              "      <td>Female</td>\n",
              "      <td>21</td>\n",
              "      <td>Unmarried partner</td>\n",
              "      <td>...</td>\n",
              "      <td>never</td>\n",
              "      <td>NaN</td>\n",
              "      <td>4~8</td>\n",
              "      <td>1~3</td>\n",
              "      <td>1</td>\n",
              "      <td>1</td>\n",
              "      <td>0</td>\n",
              "      <td>0</td>\n",
              "      <td>1</td>\n",
              "      <td>0</td>\n",
              "    </tr>\n",
              "    <tr>\n",
              "      <th>12</th>\n",
              "      <td>No Urgent Place</td>\n",
              "      <td>Kid(s)</td>\n",
              "      <td>Sunny</td>\n",
              "      <td>55</td>\n",
              "      <td>6PM</td>\n",
              "      <td>Coffee House</td>\n",
              "      <td>2h</td>\n",
              "      <td>Female</td>\n",
              "      <td>21</td>\n",
              "      <td>Unmarried partner</td>\n",
              "      <td>...</td>\n",
              "      <td>never</td>\n",
              "      <td>NaN</td>\n",
              "      <td>4~8</td>\n",
              "      <td>1~3</td>\n",
              "      <td>1</td>\n",
              "      <td>1</td>\n",
              "      <td>0</td>\n",
              "      <td>0</td>\n",
              "      <td>1</td>\n",
              "      <td>1</td>\n",
              "    </tr>\n",
              "    <tr>\n",
              "      <th>15</th>\n",
              "      <td>Home</td>\n",
              "      <td>Alone</td>\n",
              "      <td>Sunny</td>\n",
              "      <td>80</td>\n",
              "      <td>6PM</td>\n",
              "      <td>Coffee House</td>\n",
              "      <td>2h</td>\n",
              "      <td>Female</td>\n",
              "      <td>21</td>\n",
              "      <td>Unmarried partner</td>\n",
              "      <td>...</td>\n",
              "      <td>never</td>\n",
              "      <td>NaN</td>\n",
              "      <td>4~8</td>\n",
              "      <td>1~3</td>\n",
              "      <td>1</td>\n",
              "      <td>0</td>\n",
              "      <td>0</td>\n",
              "      <td>0</td>\n",
              "      <td>1</td>\n",
              "      <td>0</td>\n",
              "    </tr>\n",
              "  </tbody>\n",
              "</table>\n",
              "<p>5 rows × 25 columns</p>\n",
              "</div>\n",
              "    <div class=\"colab-df-buttons\">\n",
              "\n",
              "  <div class=\"colab-df-container\">\n",
              "    <button class=\"colab-df-convert\" onclick=\"convertToInteractive('df-7dfbbff1-781f-4e3b-8595-0289ae93cf6b')\"\n",
              "            title=\"Convert this dataframe to an interactive table.\"\n",
              "            style=\"display:none;\">\n",
              "\n",
              "  <svg xmlns=\"http://www.w3.org/2000/svg\" height=\"24px\" viewBox=\"0 -960 960 960\">\n",
              "    <path d=\"M120-120v-720h720v720H120Zm60-500h600v-160H180v160Zm220 220h160v-160H400v160Zm0 220h160v-160H400v160ZM180-400h160v-160H180v160Zm440 0h160v-160H620v160ZM180-180h160v-160H180v160Zm440 0h160v-160H620v160Z\"/>\n",
              "  </svg>\n",
              "    </button>\n",
              "\n",
              "  <style>\n",
              "    .colab-df-container {\n",
              "      display:flex;\n",
              "      gap: 12px;\n",
              "    }\n",
              "\n",
              "    .colab-df-convert {\n",
              "      background-color: #E8F0FE;\n",
              "      border: none;\n",
              "      border-radius: 50%;\n",
              "      cursor: pointer;\n",
              "      display: none;\n",
              "      fill: #1967D2;\n",
              "      height: 32px;\n",
              "      padding: 0 0 0 0;\n",
              "      width: 32px;\n",
              "    }\n",
              "\n",
              "    .colab-df-convert:hover {\n",
              "      background-color: #E2EBFA;\n",
              "      box-shadow: 0px 1px 2px rgba(60, 64, 67, 0.3), 0px 1px 3px 1px rgba(60, 64, 67, 0.15);\n",
              "      fill: #174EA6;\n",
              "    }\n",
              "\n",
              "    .colab-df-buttons div {\n",
              "      margin-bottom: 4px;\n",
              "    }\n",
              "\n",
              "    [theme=dark] .colab-df-convert {\n",
              "      background-color: #3B4455;\n",
              "      fill: #D2E3FC;\n",
              "    }\n",
              "\n",
              "    [theme=dark] .colab-df-convert:hover {\n",
              "      background-color: #434B5C;\n",
              "      box-shadow: 0px 1px 3px 1px rgba(0, 0, 0, 0.15);\n",
              "      filter: drop-shadow(0px 1px 2px rgba(0, 0, 0, 0.3));\n",
              "      fill: #FFFFFF;\n",
              "    }\n",
              "  </style>\n",
              "\n",
              "    <script>\n",
              "      const buttonEl =\n",
              "        document.querySelector('#df-7dfbbff1-781f-4e3b-8595-0289ae93cf6b button.colab-df-convert');\n",
              "      buttonEl.style.display =\n",
              "        google.colab.kernel.accessAllowed ? 'block' : 'none';\n",
              "\n",
              "      async function convertToInteractive(key) {\n",
              "        const element = document.querySelector('#df-7dfbbff1-781f-4e3b-8595-0289ae93cf6b');\n",
              "        const dataTable =\n",
              "          await google.colab.kernel.invokeFunction('convertToInteractive',\n",
              "                                                    [key], {});\n",
              "        if (!dataTable) return;\n",
              "\n",
              "        const docLinkHtml = 'Like what you see? Visit the ' +\n",
              "          '<a target=\"_blank\" href=https://colab.research.google.com/notebooks/data_table.ipynb>data table notebook</a>'\n",
              "          + ' to learn more about interactive tables.';\n",
              "        element.innerHTML = '';\n",
              "        dataTable['output_type'] = 'display_data';\n",
              "        await google.colab.output.renderOutput(dataTable, element);\n",
              "        const docLink = document.createElement('div');\n",
              "        docLink.innerHTML = docLinkHtml;\n",
              "        element.appendChild(docLink);\n",
              "      }\n",
              "    </script>\n",
              "  </div>\n",
              "\n",
              "\n",
              "<div id=\"df-c52d04bc-7933-41de-9c4b-250bdf871020\">\n",
              "  <button class=\"colab-df-quickchart\" onclick=\"quickchart('df-c52d04bc-7933-41de-9c4b-250bdf871020')\"\n",
              "            title=\"Suggest charts\"\n",
              "            style=\"display:none;\">\n",
              "\n",
              "<svg xmlns=\"http://www.w3.org/2000/svg\" height=\"24px\"viewBox=\"0 0 24 24\"\n",
              "     width=\"24px\">\n",
              "    <g>\n",
              "        <path d=\"M19 3H5c-1.1 0-2 .9-2 2v14c0 1.1.9 2 2 2h14c1.1 0 2-.9 2-2V5c0-1.1-.9-2-2-2zM9 17H7v-7h2v7zm4 0h-2V7h2v10zm4 0h-2v-4h2v4z\"/>\n",
              "    </g>\n",
              "</svg>\n",
              "  </button>\n",
              "\n",
              "<style>\n",
              "  .colab-df-quickchart {\n",
              "      --bg-color: #E8F0FE;\n",
              "      --fill-color: #1967D2;\n",
              "      --hover-bg-color: #E2EBFA;\n",
              "      --hover-fill-color: #174EA6;\n",
              "      --disabled-fill-color: #AAA;\n",
              "      --disabled-bg-color: #DDD;\n",
              "  }\n",
              "\n",
              "  [theme=dark] .colab-df-quickchart {\n",
              "      --bg-color: #3B4455;\n",
              "      --fill-color: #D2E3FC;\n",
              "      --hover-bg-color: #434B5C;\n",
              "      --hover-fill-color: #FFFFFF;\n",
              "      --disabled-bg-color: #3B4455;\n",
              "      --disabled-fill-color: #666;\n",
              "  }\n",
              "\n",
              "  .colab-df-quickchart {\n",
              "    background-color: var(--bg-color);\n",
              "    border: none;\n",
              "    border-radius: 50%;\n",
              "    cursor: pointer;\n",
              "    display: none;\n",
              "    fill: var(--fill-color);\n",
              "    height: 32px;\n",
              "    padding: 0;\n",
              "    width: 32px;\n",
              "  }\n",
              "\n",
              "  .colab-df-quickchart:hover {\n",
              "    background-color: var(--hover-bg-color);\n",
              "    box-shadow: 0 1px 2px rgba(60, 64, 67, 0.3), 0 1px 3px 1px rgba(60, 64, 67, 0.15);\n",
              "    fill: var(--button-hover-fill-color);\n",
              "  }\n",
              "\n",
              "  .colab-df-quickchart-complete:disabled,\n",
              "  .colab-df-quickchart-complete:disabled:hover {\n",
              "    background-color: var(--disabled-bg-color);\n",
              "    fill: var(--disabled-fill-color);\n",
              "    box-shadow: none;\n",
              "  }\n",
              "\n",
              "  .colab-df-spinner {\n",
              "    border: 2px solid var(--fill-color);\n",
              "    border-color: transparent;\n",
              "    border-bottom-color: var(--fill-color);\n",
              "    animation:\n",
              "      spin 1s steps(1) infinite;\n",
              "  }\n",
              "\n",
              "  @keyframes spin {\n",
              "    0% {\n",
              "      border-color: transparent;\n",
              "      border-bottom-color: var(--fill-color);\n",
              "      border-left-color: var(--fill-color);\n",
              "    }\n",
              "    20% {\n",
              "      border-color: transparent;\n",
              "      border-left-color: var(--fill-color);\n",
              "      border-top-color: var(--fill-color);\n",
              "    }\n",
              "    30% {\n",
              "      border-color: transparent;\n",
              "      border-left-color: var(--fill-color);\n",
              "      border-top-color: var(--fill-color);\n",
              "      border-right-color: var(--fill-color);\n",
              "    }\n",
              "    40% {\n",
              "      border-color: transparent;\n",
              "      border-right-color: var(--fill-color);\n",
              "      border-top-color: var(--fill-color);\n",
              "    }\n",
              "    60% {\n",
              "      border-color: transparent;\n",
              "      border-right-color: var(--fill-color);\n",
              "    }\n",
              "    80% {\n",
              "      border-color: transparent;\n",
              "      border-right-color: var(--fill-color);\n",
              "      border-bottom-color: var(--fill-color);\n",
              "    }\n",
              "    90% {\n",
              "      border-color: transparent;\n",
              "      border-bottom-color: var(--fill-color);\n",
              "    }\n",
              "  }\n",
              "</style>\n",
              "\n",
              "  <script>\n",
              "    async function quickchart(key) {\n",
              "      const quickchartButtonEl =\n",
              "        document.querySelector('#' + key + ' button');\n",
              "      quickchartButtonEl.disabled = true;  // To prevent multiple clicks.\n",
              "      quickchartButtonEl.classList.add('colab-df-spinner');\n",
              "      try {\n",
              "        const charts = await google.colab.kernel.invokeFunction(\n",
              "            'suggestCharts', [key], {});\n",
              "      } catch (error) {\n",
              "        console.error('Error during call to suggestCharts:', error);\n",
              "      }\n",
              "      quickchartButtonEl.classList.remove('colab-df-spinner');\n",
              "      quickchartButtonEl.classList.add('colab-df-quickchart-complete');\n",
              "    }\n",
              "    (() => {\n",
              "      let quickchartButtonEl =\n",
              "        document.querySelector('#df-c52d04bc-7933-41de-9c4b-250bdf871020 button');\n",
              "      quickchartButtonEl.style.display =\n",
              "        google.colab.kernel.accessAllowed ? 'block' : 'none';\n",
              "    })();\n",
              "  </script>\n",
              "</div>\n",
              "\n",
              "    </div>\n",
              "  </div>\n"
            ]
          },
          "metadata": {},
          "execution_count": 24
        }
      ],
      "source": [
        "# 1 DataFrame that contains just the cofee  coupons.\n",
        "data_coffee = data[(data['coupon'] == 'Coffee House')]\n",
        "data_coffee.head()"
      ]
    },
    {
      "cell_type": "code",
      "execution_count": null,
      "metadata": {
        "id": "7mE47QHG9f5y",
        "colab": {
          "base_uri": "https://localhost:8080/"
        },
        "outputId": "074ccff8-e6be-4e3a-a898-fd2f87b540ff"
      },
      "outputs": [
        {
          "output_type": "stream",
          "name": "stdout",
          "text": [
            "49.92% of coffee coupons were accepted.\n"
          ]
        }
      ],
      "source": [
        "# 2 What proportion of coffee coupons were accepted?\n",
        "# Proportion of coffee coupons were accepted\n",
        "coffee_coupon_accepted_status = data_coffee['Y'].value_counts()\n",
        "coffee_coup_accp_per = calculate_accp_rate(coffee_coupon_accepted_status)\n",
        "print(f\"{coffee_coup_accp_per}% of coffee coupons were accepted.\")"
      ]
    },
    {
      "cell_type": "code",
      "execution_count": null,
      "metadata": {
        "id": "Oh3RyZWm9f5y",
        "colab": {
          "base_uri": "https://localhost:8080/"
        },
        "outputId": "636d506b-3a89-4331-b098-871db5da412b"
      },
      "outputs": [
        {
          "output_type": "execute_result",
          "data": {
            "text/plain": [
              "less1    1075\n",
              "1~3      1042\n",
              "never     927\n",
              "4~8       538\n",
              "gt8       342\n",
              "Name: CoffeeHouse, dtype: int64"
            ]
          },
          "metadata": {},
          "execution_count": 26
        }
      ],
      "source": [
        "data_coffee['CoffeeHouse'].value_counts()"
      ]
    },
    {
      "cell_type": "code",
      "execution_count": null,
      "metadata": {
        "id": "gsHdvEEC9f54",
        "colab": {
          "base_uri": "https://localhost:8080/"
        },
        "outputId": "a3d306ea-a5de-43a9-d608-decc550d4d3a"
      },
      "outputs": [
        {
          "output_type": "stream",
          "name": "stdout",
          "text": [
            "44.94% coffee coupon accepted by those who went to a coffee 3 or fewer times a month.\n",
            "67.5% coffee coupon accepted by those those who went more than 3 times a month.\n"
          ]
        }
      ],
      "source": [
        "# 3 Compare the acceptance rate between those who went to a coffee 3 or fewer times a month to those who went more.\n",
        "#Acceptance rate between those who went to a coffee 3 or fewer times a month\n",
        "coffee_3_fewer_accp = data_coffee[(data_coffee['CoffeeHouse'].isin(['1~3','less1','never']))]['Y'].value_counts()\n",
        "coffee_3_fewer_accp_rate = calculate_accp_rate (coffee_3_fewer_accp)\n",
        "\n",
        "#Acceptance rate between those who went to a coffee more than 3 times a month\n",
        "coffee_3_more_accp = data_coffee[(data_coffee['CoffeeHouse'].isin(['4~8','gt8']))]['Y'].value_counts()\n",
        "coffee_3_more_accp_rate = calculate_accp_rate (coffee_3_more_accp)\n",
        "\n",
        "coffee_accp_ratio = coffee_3_fewer_accp_rate/coffee_3_more_accp_rate\n",
        "coffee_accp_ratio = round(coffee_accp_ratio,2)\n",
        "\n",
        "print(f\"{coffee_3_fewer_accp_rate}% coffee coupon accepted by those who went to a coffee 3 or fewer times a month.\")\n",
        "print(f\"{coffee_3_more_accp_rate}% coffee coupon accepted by those those who went more than 3 times a month.\")"
      ]
    },
    {
      "cell_type": "code",
      "execution_count": null,
      "metadata": {
        "id": "q6tIjuDZ9f54",
        "colab": {
          "base_uri": "https://localhost:8080/",
          "height": 542
        },
        "outputId": "7c493b2b-880f-42d0-a404-596e55617f24"
      },
      "outputs": [
        {
          "output_type": "display_data",
          "data": {
            "text/html": [
              "<html>\n",
              "<head><meta charset=\"utf-8\" /></head>\n",
              "<body>\n",
              "    <div>            <script src=\"https://cdnjs.cloudflare.com/ajax/libs/mathjax/2.7.5/MathJax.js?config=TeX-AMS-MML_SVG\"></script><script type=\"text/javascript\">if (window.MathJax && window.MathJax.Hub && window.MathJax.Hub.Config) {window.MathJax.Hub.Config({SVG: {font: \"STIX-Web\"}});}</script>                <script type=\"text/javascript\">window.PlotlyConfig = {MathJaxConfig: 'local'};</script>\n",
              "        <script charset=\"utf-8\" src=\"https://cdn.plot.ly/plotly-2.24.1.min.js\"></script>                <div id=\"01e1cca3-26b4-47e4-897b-de8cdc9fd6cc\" class=\"plotly-graph-div\" style=\"height:525px; width:100%;\"></div>            <script type=\"text/javascript\">                                    window.PLOTLYENV=window.PLOTLYENV || {};                                    if (document.getElementById(\"01e1cca3-26b4-47e4-897b-de8cdc9fd6cc\")) {                    Plotly.newPlot(                        \"01e1cca3-26b4-47e4-897b-de8cdc9fd6cc\",                        [{\"alignmentgroup\":\"True\",\"bingroup\":\"x\",\"hovertemplate\":\"age=21\\u003cbr\\u003eCoffeeHouse=%{x}\\u003cbr\\u003ecount=%{y}\\u003cextra\\u003e\\u003c\\u002fextra\\u003e\",\"legendgroup\":\"21\",\"marker\":{\"color\":\"#636efa\",\"pattern\":{\"shape\":\"\"}},\"name\":\"21\",\"offsetgroup\":\"21\",\"orientation\":\"v\",\"showlegend\":true,\"x\":[\"never\",\"never\",\"never\",\"less1\",\"less1\",\"less1\",\"less1\",\"less1\",\"less1\",\"less1\",\"less1\",\"less1\",\"less1\",\"1~3\",\"1~3\",\"1~3\",\"1~3\",\"1~3\",\"1~3\",\"never\",\"never\",\"never\",\"never\",\"never\",\"never\",\"less1\",\"less1\",\"less1\",\"less1\",\"less1\",\"gt8\",\"gt8\",\"gt8\",\"gt8\",\"gt8\",\"gt8\",\"less1\",\"less1\",\"less1\",\"less1\",\"less1\",\"less1\",\"less1\",\"less1\",\"less1\",\"less1\",\"less1\",\"1~3\",\"1~3\",\"1~3\",\"1~3\",\"1~3\",\"1~3\",\"1~3\",\"less1\",\"less1\",\"less1\",\"less1\",\"1~3\",\"1~3\",\"1~3\",\"1~3\",\"never\",\"never\",\"never\",\"never\",\"never\",\"never\",\"less1\",\"less1\",\"less1\",\"less1\",\"less1\",\"less1\",\"less1\",\"less1\",\"never\",\"never\",\"never\",\"never\",\"never\",\"1~3\",\"1~3\",\"1~3\",\"1~3\",\"1~3\",\"1~3\",\"1~3\",\"gt8\",\"gt8\",\"gt8\",\"gt8\",\"gt8\",\"gt8\",\"gt8\",\"gt8\",\"less1\",\"less1\",\"4~8\",\"4~8\",\"4~8\",\"4~8\",\"4~8\",\"4~8\",\"4~8\",\"4~8\",\"gt8\",\"gt8\",\"gt8\",\"gt8\",\"gt8\",\"gt8\",\"less1\",\"less1\",\"less1\",\"less1\",\"less1\",\"less1\",\"less1\",\"less1\",\"less1\",\"less1\",\"less1\",\"less1\",\"less1\",\"less1\",\"1~3\",\"1~3\",\"1~3\",\"less1\",\"less1\",\"less1\",\"1~3\",\"1~3\",\"1~3\",\"1~3\",\"1~3\",\"1~3\",\"1~3\",\"1~3\",\"1~3\",\"4~8\",\"4~8\",\"4~8\",\"4~8\",null,null,null,\"less1\",\"less1\",\"less1\",\"less1\",\"4~8\",\"4~8\",\"4~8\",\"4~8\",\"4~8\",\"4~8\",\"4~8\",\"4~8\",\"4~8\",\"4~8\",\"4~8\",\"4~8\",\"4~8\",\"4~8\",\"4~8\",\"4~8\",\"4~8\",\"4~8\",\"1~3\",\"1~3\",\"1~3\",\"1~3\",\"1~3\",\"4~8\",\"4~8\",\"4~8\",\"4~8\",\"4~8\",\"4~8\",\"4~8\",\"4~8\",\"4~8\",\"1~3\",\"1~3\",\"1~3\",\"1~3\",\"1~3\",\"1~3\",\"1~3\",\"1~3\",\"less1\",\"4~8\",\"4~8\",\"4~8\",\"4~8\",\"4~8\",\"4~8\",\"4~8\",\"4~8\",\"4~8\",\"4~8\",\"4~8\",\"4~8\",\"4~8\",\"1~3\",\"1~3\",\"1~3\",\"1~3\",\"1~3\",\"1~3\",\"never\",\"never\",\"4~8\",\"4~8\",\"4~8\",\"4~8\",\"4~8\",\"4~8\",\"never\",\"never\",\"never\",\"never\",\"never\",\"never\",\"never\",\"never\",\"never\",\"never\",\"1~3\",\"1~3\",\"1~3\",\"1~3\",\"4~8\",\"4~8\",\"4~8\",\"4~8\",\"4~8\",\"4~8\",\"never\",\"never\",\"never\",\"1~3\",\"1~3\",\"1~3\",\"1~3\",\"1~3\",\"1~3\",\"1~3\",\"1~3\",\"1~3\",\"1~3\",\"1~3\",\"1~3\",\"1~3\",\"1~3\",\"1~3\",\"1~3\",\"1~3\",\"never\",\"never\",\"1~3\",\"1~3\",\"1~3\",\"1~3\",\"1~3\",\"1~3\",\"1~3\",\"1~3\",\"1~3\",\"1~3\",\"1~3\",\"1~3\",\"1~3\",\"1~3\",\"1~3\",\"1~3\",\"1~3\",\"1~3\",\"1~3\",\"1~3\",\"gt8\",\"gt8\",\"gt8\",\"gt8\",\"gt8\",\"gt8\",\"gt8\",\"gt8\",\"less1\",\"less1\",\"less1\",\"less1\",\"less1\",\"less1\",\"4~8\",\"4~8\",\"4~8\",\"4~8\",\"4~8\",\"4~8\",\"4~8\",\"4~8\",\"4~8\",\"4~8\",\"4~8\",\"1~3\",\"1~3\",\"1~3\",\"1~3\",\"1~3\",\"1~3\",\"gt8\",\"gt8\",\"gt8\",\"gt8\",\"gt8\",\"4~8\",\"4~8\",\"4~8\",\"4~8\",\"4~8\",\"4~8\",\"4~8\",\"1~3\",\"1~3\",\"1~3\",\"1~3\",\"1~3\",\"1~3\",\"1~3\",\"1~3\",\"1~3\",\"4~8\",\"4~8\",\"4~8\",\"4~8\",\"4~8\",\"4~8\",\"4~8\",\"4~8\",\"less1\",\"less1\",\"less1\",\"less1\",\"less1\",\"less1\",\"never\",\"never\",\"1~3\",\"4~8\",\"4~8\",\"4~8\",\"4~8\",\"4~8\",\"1~3\",\"1~3\",\"1~3\",\"1~3\",\"1~3\",\"1~3\",\"never\",\"never\",\"less1\",\"less1\",\"less1\",\"less1\",\"1~3\",\"1~3\",\"1~3\",\"1~3\",\"1~3\",\"1~3\",\"1~3\",\"1~3\",\"1~3\",\"1~3\",\"1~3\",\"1~3\",\"1~3\",\"1~3\",\"1~3\",\"less1\",\"less1\",\"less1\",\"less1\",\"gt8\",\"gt8\",\"gt8\",\"gt8\",\"gt8\",\"gt8\",\"less1\",\"less1\",\"less1\",\"less1\",\"4~8\",\"4~8\",\"4~8\",\"never\",\"never\",\"never\",\"never\",\"1~3\",\"1~3\",\"1~3\",\"1~3\",\"less1\",\"less1\",\"gt8\",\"gt8\",\"gt8\",\"gt8\",\"never\",\"never\",\"never\",\"never\",\"1~3\",\"1~3\",\"1~3\",\"1~3\",\"1~3\",\"1~3\",\"4~8\",\"4~8\",\"4~8\",\"4~8\",\"4~8\",\"4~8\",\"4~8\",\"4~8\",\"never\",\"1~3\",\"1~3\",\"less1\",\"less1\",\"less1\",\"gt8\",\"gt8\",\"1~3\",\"1~3\",\"1~3\",\"4~8\",\"4~8\",\"4~8\",\"4~8\",\"1~3\",\"1~3\",\"never\",\"less1\",\"less1\",\"gt8\",\"1~3\",\"less1\",\"1~3\",\"1~3\",\"never\",\"never\",\"1~3\",\"never\",\"4~8\",\"4~8\"],\"xaxis\":\"x\",\"yaxis\":\"y\",\"type\":\"histogram\"},{\"alignmentgroup\":\"True\",\"bingroup\":\"x\",\"hovertemplate\":\"age=46\\u003cbr\\u003eCoffeeHouse=%{x}\\u003cbr\\u003ecount=%{y}\\u003cextra\\u003e\\u003c\\u002fextra\\u003e\",\"legendgroup\":\"46\",\"marker\":{\"color\":\"#EF553B\",\"pattern\":{\"shape\":\"\"}},\"name\":\"46\",\"offsetgroup\":\"46\",\"orientation\":\"v\",\"showlegend\":true,\"x\":[\"4~8\",\"4~8\",\"4~8\",\"4~8\",\"4~8\",\"1~3\",\"1~3\",\"1~3\",\"1~3\",\"less1\",\"less1\",\"less1\",\"less1\",\"1~3\",\"1~3\",\"1~3\",\"1~3\",\"1~3\",\"less1\",\"less1\",\"less1\",\"less1\",\"less1\",\"1~3\",\"1~3\",\"1~3\",\"1~3\",\"less1\",\"less1\",\"less1\",\"less1\",\"less1\",\"less1\",\"never\",\"less1\",\"4~8\",\"4~8\",\"4~8\",\"4~8\",\"4~8\",\"4~8\",\"never\",\"never\",\"less1\",\"less1\",\"less1\",\"less1\",\"less1\",\"less1\",\"less1\",\"less1\",\"less1\",\"less1\",\"less1\",\"never\",\"never\",\"never\",\"never\",\"never\",\"never\",\"never\",\"never\",\"never\",\"never\",\"never\",\"never\",\"never\",\"never\",\"never\",\"gt8\",\"gt8\",\"gt8\",\"gt8\",\"gt8\",\"gt8\",\"gt8\",\"1~3\",\"1~3\",\"1~3\",\"less1\",\"less1\",\"less1\",\"4~8\",\"4~8\",\"4~8\",\"4~8\",\"1~3\",\"1~3\",\"1~3\",\"1~3\",\"less1\",\"less1\",\"less1\",\"less1\",\"less1\",\"1~3\",\"1~3\",\"4~8\",\"4~8\",\"4~8\",\"1~3\",\"1~3\",\"1~3\",\"1~3\",\"less1\",\"less1\",\"less1\",\"less1\",\"1~3\",\"1~3\",\"4~8\",\"4~8\",\"4~8\"],\"xaxis\":\"x\",\"yaxis\":\"y\",\"type\":\"histogram\"},{\"alignmentgroup\":\"True\",\"bingroup\":\"x\",\"hovertemplate\":\"age=26\\u003cbr\\u003eCoffeeHouse=%{x}\\u003cbr\\u003ecount=%{y}\\u003cextra\\u003e\\u003c\\u002fextra\\u003e\",\"legendgroup\":\"26\",\"marker\":{\"color\":\"#00cc96\",\"pattern\":{\"shape\":\"\"}},\"name\":\"26\",\"offsetgroup\":\"26\",\"orientation\":\"v\",\"showlegend\":true,\"x\":[\"gt8\",\"gt8\",\"gt8\",\"gt8\",\"gt8\",\"less1\",\"less1\",\"less1\",\"gt8\",\"gt8\",\"1~3\",\"1~3\",\"1~3\",\"1~3\",\"1~3\",\"1~3\",\"1~3\",\"1~3\",\"1~3\",\"1~3\",\"1~3\",\"1~3\",\"1~3\",\"1~3\",\"1~3\",\"1~3\",\"1~3\",\"1~3\",\"1~3\",\"1~3\",null,\"1~3\",\"1~3\",\"1~3\",\"1~3\",\"1~3\",\"1~3\",\"1~3\",\"1~3\",\"1~3\",\"1~3\",null,\"gt8\",\"4~8\",\"4~8\",\"4~8\",\"4~8\",\"4~8\",\"4~8\",\"4~8\",\"4~8\",\"4~8\",\"4~8\",\"1~3\",\"1~3\",\"1~3\",\"1~3\",\"1~3\",\"1~3\",\"1~3\",\"1~3\",\"1~3\",\"1~3\",\"4~8\",\"4~8\",\"4~8\",\"4~8\",\"4~8\",\"less1\",\"less1\",\"1~3\",\"1~3\",\"1~3\",\"1~3\",\"1~3\",\"1~3\",\"1~3\",\"1~3\",\"1~3\",\"1~3\",\"1~3\",\"1~3\",\"1~3\",\"1~3\",\"1~3\",\"1~3\",\"1~3\",\"1~3\",\"1~3\",\"less1\",null,\"4~8\",\"4~8\",\"4~8\",\"4~8\",\"4~8\",\"4~8\",\"4~8\",\"4~8\",\"4~8\",\"4~8\",\"1~3\",\"1~3\",\"1~3\",\"1~3\",\"1~3\",\"1~3\",\"less1\",\"less1\",\"less1\",\"less1\",\"less1\",\"less1\",\"less1\",\"less1\",\"gt8\",\"gt8\",\"less1\",\"less1\",\"less1\",\"less1\",\"less1\",\"less1\",\"never\",\"never\",\"never\",\"never\",\"never\",\"never\",\"never\",\"less1\",\"less1\",\"less1\",\"less1\",\"less1\",\"less1\",\"less1\",\"1~3\",\"1~3\",\"1~3\",\"1~3\",\"1~3\",\"1~3\",\"1~3\",\"1~3\",\"1~3\",\"1~3\",\"1~3\",\"less1\",\"less1\",\"less1\",\"less1\",\"less1\",\"less1\",\"less1\",\"1~3\",\"1~3\",\"1~3\",\"1~3\",\"1~3\",\"1~3\",\"1~3\",\"1~3\",\"1~3\",\"1~3\",\"1~3\",\"1~3\",\"1~3\",\"1~3\",\"gt8\",\"gt8\",\"gt8\",\"gt8\",\"gt8\",\"gt8\",\"gt8\",\"gt8\",\"gt8\",\"gt8\",\"never\",\"gt8\",\"gt8\",\"gt8\",\"gt8\",\"gt8\",\"gt8\",\"gt8\",\"gt8\",\"less1\",\"less1\",\"less1\",\"less1\",\"less1\",\"less1\",\"less1\",\"1~3\",\"1~3\",\"1~3\",\"1~3\",\"1~3\",\"1~3\",\"1~3\",\"1~3\",\"1~3\",\"less1\",\"less1\",\"less1\",\"less1\",\"less1\",\"less1\",\"less1\",\"less1\",\"1~3\",\"1~3\",\"1~3\",\"1~3\",\"1~3\",\"1~3\",\"1~3\",\"1~3\",\"1~3\",\"1~3\",\"1~3\",\"1~3\",\"1~3\",null,null,null,null,null,\"never\",\"1~3\",\"1~3\",\"1~3\",\"1~3\",\"1~3\",\"1~3\",\"1~3\",\"1~3\",\"1~3\",\"1~3\",\"1~3\",\"1~3\",\"1~3\",\"1~3\",\"1~3\",\"1~3\",\"1~3\",\"1~3\",\"1~3\",\"1~3\",\"1~3\",\"1~3\",\"1~3\",\"1~3\",\"less1\",\"1~3\",\"1~3\",\"1~3\",\"1~3\",\"1~3\",\"less1\",\"less1\",\"less1\",\"less1\",\"less1\",\"less1\",\"less1\",\"less1\",\"less1\",\"less1\",\"less1\",\"gt8\",\"gt8\",\"gt8\",\"gt8\",\"gt8\",\"gt8\",\"gt8\",\"gt8\",\"gt8\",\"gt8\",\"gt8\",\"gt8\",\"gt8\",\"less1\",\"less1\",\"less1\",\"less1\",\"less1\",\"less1\",\"less1\",\"1~3\",\"1~3\",\"1~3\",\"1~3\",\"1~3\",\"1~3\",\"4~8\",\"4~8\",\"4~8\",\"4~8\",\"4~8\",\"4~8\",\"4~8\",\"less1\",\"less1\",\"less1\",\"less1\",\"less1\",\"less1\",\"less1\",\"less1\",\"less1\",\"less1\",\"less1\",\"less1\",\"less1\",\"less1\",\"less1\",\"less1\",\"less1\",\"less1\",\"less1\",\"less1\",\"less1\",\"less1\",\"1~3\",\"1~3\",\"1~3\",\"1~3\",\"1~3\",\"1~3\",null,null,null,null,null,\"less1\",\"less1\",\"less1\",\"less1\",\"never\",\"less1\",\"less1\",\"less1\",\"less1\",\"less1\",\"gt8\",\"gt8\",\"gt8\",\"gt8\",\"gt8\",\"gt8\",\"gt8\",\"gt8\",\"gt8\",\"gt8\",\"less1\",\"less1\",\"less1\",\"less1\",\"less1\",\"less1\",\"less1\",\"less1\",\"less1\",\"less1\",\"less1\",\"less1\",\"less1\",\"1~3\",\"1~3\",\"1~3\",\"1~3\",\"1~3\",\"1~3\",\"1~3\",\"less1\",\"less1\",\"less1\",\"less1\",\"less1\",\"1~3\",\"1~3\",\"1~3\",\"1~3\",\"1~3\",null,null,null,null,\"1~3\",\"1~3\",\"1~3\",\"1~3\",\"1~3\",\"1~3\",\"1~3\",\"1~3\",\"less1\",\"less1\",\"less1\",\"less1\",\"1~3\",\"1~3\",\"1~3\",\"1~3\",\"1~3\",\"1~3\",\"less1\",\"less1\",\"1~3\",\"1~3\",\"gt8\",\"gt8\",\"gt8\",\"never\",\"never\",\"never\",\"never\",\"1~3\",\"1~3\",\"1~3\",\"1~3\",\"4~8\",\"4~8\",\"gt8\",null,\"gt8\",\"gt8\",\"gt8\",\"less1\",\"less1\"],\"xaxis\":\"x\",\"yaxis\":\"y\",\"type\":\"histogram\"},{\"alignmentgroup\":\"True\",\"bingroup\":\"x\",\"hovertemplate\":\"age=31\\u003cbr\\u003eCoffeeHouse=%{x}\\u003cbr\\u003ecount=%{y}\\u003cextra\\u003e\\u003c\\u002fextra\\u003e\",\"legendgroup\":\"31\",\"marker\":{\"color\":\"#ab63fa\",\"pattern\":{\"shape\":\"\"}},\"name\":\"31\",\"offsetgroup\":\"31\",\"orientation\":\"v\",\"showlegend\":true,\"x\":[\"less1\",\"less1\",\"1~3\",\"1~3\",\"1~3\",\"less1\",\"less1\",\"less1\",\"gt8\",\"gt8\",\"gt8\",\"gt8\",\"gt8\",\"gt8\",\"gt8\",\"gt8\",\"gt8\",\"gt8\",\"gt8\",\"gt8\",\"gt8\",\"gt8\",\"gt8\",\"gt8\",\"gt8\",\"never\",\"never\",\"never\",\"never\",\"never\",\"never\",\"never\",\"4~8\",\"4~8\",\"4~8\",\"4~8\",\"4~8\",\"4~8\",\"never\",\"1~3\",\"1~3\",\"1~3\",\"less1\",\"less1\",\"less1\",\"less1\",\"less1\",\"less1\",\"1~3\",\"1~3\",\"1~3\",\"1~3\",\"1~3\",\"1~3\",\"1~3\",\"1~3\",\"1~3\",\"1~3\",\"1~3\",\"1~3\",\"1~3\",\"1~3\",\"1~3\",\"1~3\",\"1~3\",\"less1\",\"less1\",\"less1\",\"less1\",\"less1\",\"less1\",\"1~3\",\"1~3\",\"1~3\",\"1~3\",\"1~3\",\"1~3\",\"1~3\",\"1~3\",\"1~3\",\"1~3\",\"less1\",\"less1\",\"less1\",\"less1\",\"1~3\",\"1~3\",\"1~3\",\"1~3\",\"1~3\",\"1~3\",\"4~8\",\"4~8\",\"4~8\",\"4~8\",\"4~8\",\"4~8\",\"4~8\",\"4~8\",\"4~8\",\"less1\",\"1~3\",\"1~3\",\"1~3\",\"1~3\",\"1~3\",\"1~3\",\"never\",\"1~3\",\"1~3\",\"1~3\",\"1~3\",\"1~3\",\"1~3\",\"1~3\",\"never\",\"never\",\"never\",\"never\",\"1~3\",\"1~3\",\"1~3\",\"1~3\",\"1~3\",\"1~3\",\"1~3\",\"1~3\",\"1~3\",\"never\",\"1~3\",\"1~3\",\"1~3\",\"1~3\",\"1~3\",\"less1\",\"less1\",\"less1\",\"less1\",\"less1\",\"less1\",\"less1\",\"1~3\",\"1~3\",\"1~3\",\"1~3\",\"1~3\",\"1~3\",\"1~3\",\"less1\",\"less1\",\"less1\",\"less1\",\"less1\",\"4~8\",\"4~8\",\"4~8\",\"4~8\",\"4~8\",\"never\",\"never\",\"never\",\"1~3\",\"1~3\",\"1~3\",\"1~3\",\"1~3\",\"1~3\",\"less1\",\"less1\",\"less1\",\"less1\",\"less1\",\"1~3\",\"1~3\",\"1~3\",\"1~3\",\"1~3\",\"1~3\",\"less1\",\"less1\",\"less1\",\"less1\",\"1~3\",\"1~3\",\"1~3\",\"less1\",\"less1\",\"never\",\"never\",\"never\",\"never\",\"never\",\"4~8\",\"4~8\",\"4~8\",\"less1\",\"less1\",\"less1\",\"less1\",\"less1\",\"less1\",\"less1\",\"less1\",\"less1\",\"less1\",\"4~8\",\"4~8\",\"4~8\",\"4~8\",\"4~8\",\"4~8\",\"less1\",\"less1\",\"less1\",\"less1\",\"4~8\",\"4~8\",\"4~8\",\"4~8\",\"4~8\",\"4~8\",\"less1\",\"less1\",\"less1\",\"less1\",\"less1\",\"less1\",\"less1\",\"1~3\",\"1~3\",\"1~3\",\"1~3\",\"1~3\",\"less1\",\"less1\",\"less1\",\"less1\",\"less1\",\"less1\",\"less1\",\"less1\",\"less1\",\"less1\",\"less1\",\"1~3\",\"never\",\"never\",\"never\",\"never\",\"less1\",\"less1\",\"never\",\"never\",\"never\",\"never\",\"never\",\"less1\",\"less1\",\"less1\",\"gt8\",\"gt8\",\"4~8\",\"4~8\",\"4~8\",\"4~8\",\"less1\",\"less1\",\"4~8\",\"4~8\",\"4~8\",\"4~8\",\"4~8\",\"less1\",\"less1\",\"less1\",\"1~3\",\"1~3\",\"1~3\",\"1~3\",\"1~3\",\"1~3\",\"1~3\",\"less1\",\"less1\",\"less1\",\"4~8\",\"4~8\",\"4~8\",\"less1\",\"1~3\",\"1~3\",\"gt8\",\"less1\",\"less1\",\"never\",\"4~8\",\"less1\"],\"xaxis\":\"x\",\"yaxis\":\"y\",\"type\":\"histogram\"},{\"alignmentgroup\":\"True\",\"bingroup\":\"x\",\"hovertemplate\":\"age=41\\u003cbr\\u003eCoffeeHouse=%{x}\\u003cbr\\u003ecount=%{y}\\u003cextra\\u003e\\u003c\\u002fextra\\u003e\",\"legendgroup\":\"41\",\"marker\":{\"color\":\"#FFA15A\",\"pattern\":{\"shape\":\"\"}},\"name\":\"41\",\"offsetgroup\":\"41\",\"orientation\":\"v\",\"showlegend\":true,\"x\":[\"gt8\",\"gt8\",\"gt8\",\"gt8\",\"gt8\",\"gt8\",\"gt8\",\"1~3\",\"1~3\",\"1~3\",\"1~3\",\"1~3\",\"1~3\",\"never\",\"never\",\"never\",\"never\",\"never\",null,null,\"1~3\",\"less1\",\"less1\",\"less1\",\"less1\",\"less1\",\"less1\",\"less1\",\"less1\",\"less1\",\"less1\",\"less1\",\"1~3\",\"1~3\",\"1~3\",\"1~3\",\"1~3\",\"1~3\",\"1~3\",\"1~3\",\"1~3\",\"1~3\",\"1~3\",\"1~3\",\"1~3\",\"4~8\",\"less1\",\"less1\",\"less1\",\"less1\",\"less1\",\"less1\",\"1~3\",\"1~3\",\"1~3\",\"1~3\",\"less1\",\"less1\",\"less1\",\"less1\",\"less1\",\"less1\",\"less1\",\"1~3\",\"1~3\",\"1~3\",\"gt8\",\"gt8\",\"gt8\",\"gt8\",\"1~3\",\"1~3\",\"1~3\",\"less1\",\"never\",\"less1\",\"less1\",\"less1\",\"4~8\",\"4~8\",\"4~8\",\"4~8\",\"4~8\",\"4~8\",\"4~8\",\"4~8\",\"4~8\",\"less1\",\"less1\",\"less1\",\"less1\",\"less1\",\"1~3\",\"1~3\",\"1~3\",\"1~3\",\"1~3\",\"1~3\",\"1~3\",\"1~3\",\"1~3\",\"less1\",\"less1\",\"less1\",\"less1\",\"less1\",\"less1\",\"less1\",\"4~8\",\"4~8\",\"4~8\",\"4~8\",\"4~8\",\"4~8\",\"1~3\",\"1~3\",\"1~3\",\"1~3\",\"1~3\",\"1~3\",\"1~3\",\"less1\",\"less1\",\"1~3\",\"1~3\",\"1~3\",\"1~3\",\"1~3\",\"less1\",\"less1\",\"less1\",\"4~8\",\"4~8\",\"4~8\",\"4~8\",\"never\",\"never\",\"never\",\"never\",\"1~3\",\"1~3\",\"never\",\"never\",\"never\",\"less1\",\"less1\",\"less1\",\"less1\",\"less1\",\"less1\",\"less1\",\"gt8\",\"gt8\",\"gt8\",\"4~8\",\"4~8\",\"1~3\",\"1~3\",\"1~3\",\"1~3\",\"less1\",\"less1\",\"less1\"],\"xaxis\":\"x\",\"yaxis\":\"y\",\"type\":\"histogram\"},{\"alignmentgroup\":\"True\",\"bingroup\":\"x\",\"hovertemplate\":\"age=50plus\\u003cbr\\u003eCoffeeHouse=%{x}\\u003cbr\\u003ecount=%{y}\\u003cextra\\u003e\\u003c\\u002fextra\\u003e\",\"legendgroup\":\"50plus\",\"marker\":{\"color\":\"#19d3f3\",\"pattern\":{\"shape\":\"\"}},\"name\":\"50plus\",\"offsetgroup\":\"50plus\",\"orientation\":\"v\",\"showlegend\":true,\"x\":[\"less1\",\"less1\",\"less1\",\"less1\",null,null,\"1~3\",\"1~3\",\"1~3\",\"1~3\",\"1~3\",\"1~3\",\"1~3\",\"1~3\",\"1~3\",\"1~3\",\"1~3\",\"never\",\"never\",\"4~8\",\"4~8\",\"4~8\",\"never\",\"never\",\"4~8\",\"less1\",\"less1\",\"less1\",\"less1\",\"less1\",\"1~3\",\"1~3\",\"1~3\",\"1~3\",\"1~3\",\"1~3\",\"less1\",\"less1\",\"never\",\"gt8\",\"gt8\",\"gt8\",\"gt8\",\"gt8\",\"gt8\",\"4~8\",\"4~8\",\"4~8\",\"4~8\",\"4~8\",\"4~8\",\"less1\",\"1~3\",\"1~3\",\"1~3\",\"1~3\",\"1~3\",\"1~3\",\"1~3\",\"less1\",\"less1\",\"less1\",\"less1\",null,null,null,\"less1\",\"less1\",\"less1\",\"less1\",\"less1\",\"less1\",\"less1\",\"never\",\"gt8\",\"gt8\",\"gt8\",\"gt8\",\"gt8\",\"gt8\",\"gt8\",\"1~3\",\"1~3\",\"1~3\",\"1~3\",\"less1\",\"less1\",\"less1\",\"less1\",\"4~8\",\"4~8\",\"4~8\",\"4~8\",\"4~8\",\"4~8\",\"4~8\",\"4~8\",\"4~8\",\"never\",\"never\",\"less1\",\"4~8\",\"4~8\",\"4~8\",\"4~8\",\"4~8\",\"4~8\",\"never\",\"never\",\"gt8\",\"gt8\",\"gt8\",\"gt8\",\"gt8\",\"gt8\",\"gt8\",\"gt8\",\"1~3\",\"1~3\",\"1~3\",\"1~3\",\"1~3\",\"1~3\",\"4~8\",\"4~8\",\"4~8\",\"4~8\",\"4~8\",\"4~8\",\"4~8\",\"4~8\",\"4~8\",\"4~8\",\"4~8\",\"4~8\",\"4~8\",\"1~3\",\"1~3\",\"1~3\",\"1~3\",\"1~3\",\"1~3\",\"1~3\",\"1~3\",\"1~3\",\"4~8\",\"4~8\",\"1~3\",\"1~3\",\"1~3\",\"never\",\"never\",\"never\",\"less1\",\"less1\",\"4~8\",\"4~8\",\"4~8\",\"4~8\",\"4~8\",\"4~8\",\"4~8\",\"never\",\"never\",\"never\",\"never\",\"never\",\"never\",\"4~8\",\"4~8\",\"4~8\",\"4~8\",\"4~8\",\"4~8\",\"4~8\",\"4~8\",\"4~8\",\"4~8\",\"4~8\",\"4~8\",\"4~8\",\"4~8\",\"4~8\",\"4~8\",\"gt8\",\"gt8\",\"gt8\",\"gt8\",\"gt8\",\"gt8\",\"gt8\",\"gt8\",\"4~8\",\"less1\",\"less1\",\"less1\",\"less1\",\"less1\",\"less1\",\"less1\",\"4~8\",\"4~8\",\"1~3\",\"less1\",\"less1\",\"less1\",\"4~8\",\"4~8\",\"4~8\",\"4~8\",\"4~8\",\"4~8\",\"4~8\",\"4~8\",\"1~3\",\"1~3\",\"1~3\",\"less1\",\"gt8\",\"less1\",\"less1\",\"1~3\",\"1~3\",\"1~3\",\"1~3\",\"never\",\"less1\",\"less1\",\"less1\"],\"xaxis\":\"x\",\"yaxis\":\"y\",\"type\":\"histogram\"},{\"alignmentgroup\":\"True\",\"bingroup\":\"x\",\"hovertemplate\":\"age=36\\u003cbr\\u003eCoffeeHouse=%{x}\\u003cbr\\u003ecount=%{y}\\u003cextra\\u003e\\u003c\\u002fextra\\u003e\",\"legendgroup\":\"36\",\"marker\":{\"color\":\"#FF6692\",\"pattern\":{\"shape\":\"\"}},\"name\":\"36\",\"offsetgroup\":\"36\",\"orientation\":\"v\",\"showlegend\":true,\"x\":[\"1~3\",\"less1\",\"less1\",\"less1\",\"less1\",\"1~3\",\"1~3\",\"1~3\",\"1~3\",\"gt8\",\"gt8\",\"1~3\",\"1~3\",\"1~3\",\"1~3\",\"1~3\",\"1~3\",\"1~3\",\"less1\",\"less1\",\"less1\",\"less1\",\"less1\",\"less1\",\"1~3\",\"1~3\",\"gt8\",\"gt8\",\"gt8\",\"gt8\",\"gt8\",\"gt8\",\"4~8\",\"4~8\",\"4~8\",\"4~8\",\"4~8\",\"4~8\",\"never\",\"never\",\"1~3\",\"1~3\",\"1~3\",\"1~3\",\"4~8\",\"4~8\",\"gt8\",\"gt8\",\"gt8\",\"gt8\",\"gt8\",\"gt8\",\"gt8\",\"gt8\",\"gt8\",\"gt8\",\"gt8\",\"gt8\",\"gt8\",\"gt8\",\"gt8\",\"gt8\",\"gt8\",\"gt8\",\"gt8\",\"1~3\",\"1~3\",\"1~3\",\"1~3\",\"1~3\",\"1~3\",\"1~3\",\"1~3\",\"less1\",\"less1\",\"4~8\",\"4~8\",\"4~8\",\"4~8\",\"4~8\",\"4~8\",\"less1\",\"less1\",\"less1\",\"less1\",\"less1\",\"less1\",\"less1\",\"less1\",\"less1\",\"1~3\",\"1~3\",\"1~3\",\"1~3\",\"1~3\",\"1~3\",\"1~3\",\"1~3\",\"gt8\",\"4~8\",\"4~8\",\"4~8\",\"4~8\",\"4~8\",\"4~8\",\"4~8\",\"4~8\",\"4~8\",\"4~8\",null,null,null,null,null,\"never\",\"never\",\"never\",\"less1\",\"less1\",\"less1\",\"less1\",\"less1\",\"less1\",\"less1\",\"less1\",\"less1\",\"1~3\",\"1~3\",\"1~3\",\"1~3\",\"1~3\",\"never\",\"never\",\"never\",\"never\",\"never\",\"1~3\",\"1~3\",\"less1\",\"less1\",\"less1\",\"less1\",\"never\",\"never\",\"never\",\"never\",\"never\",\"less1\",\"less1\",\"less1\",\"less1\",\"less1\",\"less1\",\"less1\",\"never\",\"4~8\",\"4~8\",\"4~8\",\"less1\",\"less1\",\"less1\",\"less1\",\"4~8\",\"4~8\",\"4~8\",\"4~8\",\"4~8\",\"4~8\",\"less1\",\"less1\",\"less1\",\"less1\",\"gt8\",\"gt8\",\"gt8\",\"gt8\",\"gt8\",\"less1\",\"never\",\"less1\",\"1~3\",\"4~8\",\"4~8\",\"4~8\",\"less1\",\"less1\",\"less1\",\"1~3\"],\"xaxis\":\"x\",\"yaxis\":\"y\",\"type\":\"histogram\"},{\"alignmentgroup\":\"True\",\"bingroup\":\"x\",\"hovertemplate\":\"age=below21\\u003cbr\\u003eCoffeeHouse=%{x}\\u003cbr\\u003ecount=%{y}\\u003cextra\\u003e\\u003c\\u002fextra\\u003e\",\"legendgroup\":\"below21\",\"marker\":{\"color\":\"#B6E880\",\"pattern\":{\"shape\":\"\"}},\"name\":\"below21\",\"offsetgroup\":\"below21\",\"orientation\":\"v\",\"showlegend\":true,\"x\":[\"1~3\",\"1~3\",\"1~3\",\"1~3\",\"1~3\",\"1~3\",\"1~3\",\"1~3\",\"1~3\",\"1~3\",\"1~3\",\"1~3\",\"1~3\",\"1~3\",\"1~3\",\"1~3\",\"1~3\",\"1~3\",\"1~3\",\"1~3\",\"1~3\",\"gt8\",\"gt8\",\"gt8\",\"gt8\",\"gt8\",\"gt8\",\"gt8\",\"gt8\",\"gt8\",\"gt8\",\"1~3\",\"1~3\",\"1~3\",\"1~3\",\"1~3\",\"1~3\",\"1~3\",\"4~8\",\"4~8\",\"4~8\",\"4~8\",\"4~8\",\"4~8\",\"4~8\",\"4~8\",\"1~3\",\"1~3\",\"1~3\",\"1~3\",\"1~3\",\"1~3\",\"1~3\",\"1~3\",\"less1\",\"less1\",\"less1\",\"less1\",\"less1\",\"less1\",\"4~8\",\"4~8\",\"4~8\",\"4~8\",\"4~8\",\"4~8\",\"4~8\",\"1~3\",\"1~3\",\"1~3\",\"1~3\",\"1~3\",\"1~3\",\"gt8\",\"gt8\",\"gt8\",\"gt8\",\"never\",\"never\",\"never\",\"less1\",\"less1\",\"less1\",\"less1\",\"never\",\"never\",\"never\",\"never\",\"1~3\",\"1~3\",\"1~3\",\"1~3\",\"1~3\",\"4~8\",\"4~8\",\"4~8\",\"4~8\",\"4~8\",\"1~3\",\"1~3\",\"4~8\",\"4~8\",\"gt8\",\"1~3\",\"1~3\",\"gt8\",\"gt8\",\"less1\"],\"xaxis\":\"x\",\"yaxis\":\"y\",\"type\":\"histogram\"}],                        {\"template\":{\"data\":{\"histogram2dcontour\":[{\"type\":\"histogram2dcontour\",\"colorbar\":{\"outlinewidth\":0,\"ticks\":\"\"},\"colorscale\":[[0.0,\"#0d0887\"],[0.1111111111111111,\"#46039f\"],[0.2222222222222222,\"#7201a8\"],[0.3333333333333333,\"#9c179e\"],[0.4444444444444444,\"#bd3786\"],[0.5555555555555556,\"#d8576b\"],[0.6666666666666666,\"#ed7953\"],[0.7777777777777778,\"#fb9f3a\"],[0.8888888888888888,\"#fdca26\"],[1.0,\"#f0f921\"]]}],\"choropleth\":[{\"type\":\"choropleth\",\"colorbar\":{\"outlinewidth\":0,\"ticks\":\"\"}}],\"histogram2d\":[{\"type\":\"histogram2d\",\"colorbar\":{\"outlinewidth\":0,\"ticks\":\"\"},\"colorscale\":[[0.0,\"#0d0887\"],[0.1111111111111111,\"#46039f\"],[0.2222222222222222,\"#7201a8\"],[0.3333333333333333,\"#9c179e\"],[0.4444444444444444,\"#bd3786\"],[0.5555555555555556,\"#d8576b\"],[0.6666666666666666,\"#ed7953\"],[0.7777777777777778,\"#fb9f3a\"],[0.8888888888888888,\"#fdca26\"],[1.0,\"#f0f921\"]]}],\"heatmap\":[{\"type\":\"heatmap\",\"colorbar\":{\"outlinewidth\":0,\"ticks\":\"\"},\"colorscale\":[[0.0,\"#0d0887\"],[0.1111111111111111,\"#46039f\"],[0.2222222222222222,\"#7201a8\"],[0.3333333333333333,\"#9c179e\"],[0.4444444444444444,\"#bd3786\"],[0.5555555555555556,\"#d8576b\"],[0.6666666666666666,\"#ed7953\"],[0.7777777777777778,\"#fb9f3a\"],[0.8888888888888888,\"#fdca26\"],[1.0,\"#f0f921\"]]}],\"heatmapgl\":[{\"type\":\"heatmapgl\",\"colorbar\":{\"outlinewidth\":0,\"ticks\":\"\"},\"colorscale\":[[0.0,\"#0d0887\"],[0.1111111111111111,\"#46039f\"],[0.2222222222222222,\"#7201a8\"],[0.3333333333333333,\"#9c179e\"],[0.4444444444444444,\"#bd3786\"],[0.5555555555555556,\"#d8576b\"],[0.6666666666666666,\"#ed7953\"],[0.7777777777777778,\"#fb9f3a\"],[0.8888888888888888,\"#fdca26\"],[1.0,\"#f0f921\"]]}],\"contourcarpet\":[{\"type\":\"contourcarpet\",\"colorbar\":{\"outlinewidth\":0,\"ticks\":\"\"}}],\"contour\":[{\"type\":\"contour\",\"colorbar\":{\"outlinewidth\":0,\"ticks\":\"\"},\"colorscale\":[[0.0,\"#0d0887\"],[0.1111111111111111,\"#46039f\"],[0.2222222222222222,\"#7201a8\"],[0.3333333333333333,\"#9c179e\"],[0.4444444444444444,\"#bd3786\"],[0.5555555555555556,\"#d8576b\"],[0.6666666666666666,\"#ed7953\"],[0.7777777777777778,\"#fb9f3a\"],[0.8888888888888888,\"#fdca26\"],[1.0,\"#f0f921\"]]}],\"surface\":[{\"type\":\"surface\",\"colorbar\":{\"outlinewidth\":0,\"ticks\":\"\"},\"colorscale\":[[0.0,\"#0d0887\"],[0.1111111111111111,\"#46039f\"],[0.2222222222222222,\"#7201a8\"],[0.3333333333333333,\"#9c179e\"],[0.4444444444444444,\"#bd3786\"],[0.5555555555555556,\"#d8576b\"],[0.6666666666666666,\"#ed7953\"],[0.7777777777777778,\"#fb9f3a\"],[0.8888888888888888,\"#fdca26\"],[1.0,\"#f0f921\"]]}],\"mesh3d\":[{\"type\":\"mesh3d\",\"colorbar\":{\"outlinewidth\":0,\"ticks\":\"\"}}],\"scatter\":[{\"fillpattern\":{\"fillmode\":\"overlay\",\"size\":10,\"solidity\":0.2},\"type\":\"scatter\"}],\"parcoords\":[{\"type\":\"parcoords\",\"line\":{\"colorbar\":{\"outlinewidth\":0,\"ticks\":\"\"}}}],\"scatterpolargl\":[{\"type\":\"scatterpolargl\",\"marker\":{\"colorbar\":{\"outlinewidth\":0,\"ticks\":\"\"}}}],\"bar\":[{\"error_x\":{\"color\":\"#2a3f5f\"},\"error_y\":{\"color\":\"#2a3f5f\"},\"marker\":{\"line\":{\"color\":\"#E5ECF6\",\"width\":0.5},\"pattern\":{\"fillmode\":\"overlay\",\"size\":10,\"solidity\":0.2}},\"type\":\"bar\"}],\"scattergeo\":[{\"type\":\"scattergeo\",\"marker\":{\"colorbar\":{\"outlinewidth\":0,\"ticks\":\"\"}}}],\"scatterpolar\":[{\"type\":\"scatterpolar\",\"marker\":{\"colorbar\":{\"outlinewidth\":0,\"ticks\":\"\"}}}],\"histogram\":[{\"marker\":{\"pattern\":{\"fillmode\":\"overlay\",\"size\":10,\"solidity\":0.2}},\"type\":\"histogram\"}],\"scattergl\":[{\"type\":\"scattergl\",\"marker\":{\"colorbar\":{\"outlinewidth\":0,\"ticks\":\"\"}}}],\"scatter3d\":[{\"type\":\"scatter3d\",\"line\":{\"colorbar\":{\"outlinewidth\":0,\"ticks\":\"\"}},\"marker\":{\"colorbar\":{\"outlinewidth\":0,\"ticks\":\"\"}}}],\"scattermapbox\":[{\"type\":\"scattermapbox\",\"marker\":{\"colorbar\":{\"outlinewidth\":0,\"ticks\":\"\"}}}],\"scatterternary\":[{\"type\":\"scatterternary\",\"marker\":{\"colorbar\":{\"outlinewidth\":0,\"ticks\":\"\"}}}],\"scattercarpet\":[{\"type\":\"scattercarpet\",\"marker\":{\"colorbar\":{\"outlinewidth\":0,\"ticks\":\"\"}}}],\"carpet\":[{\"aaxis\":{\"endlinecolor\":\"#2a3f5f\",\"gridcolor\":\"white\",\"linecolor\":\"white\",\"minorgridcolor\":\"white\",\"startlinecolor\":\"#2a3f5f\"},\"baxis\":{\"endlinecolor\":\"#2a3f5f\",\"gridcolor\":\"white\",\"linecolor\":\"white\",\"minorgridcolor\":\"white\",\"startlinecolor\":\"#2a3f5f\"},\"type\":\"carpet\"}],\"table\":[{\"cells\":{\"fill\":{\"color\":\"#EBF0F8\"},\"line\":{\"color\":\"white\"}},\"header\":{\"fill\":{\"color\":\"#C8D4E3\"},\"line\":{\"color\":\"white\"}},\"type\":\"table\"}],\"barpolar\":[{\"marker\":{\"line\":{\"color\":\"#E5ECF6\",\"width\":0.5},\"pattern\":{\"fillmode\":\"overlay\",\"size\":10,\"solidity\":0.2}},\"type\":\"barpolar\"}],\"pie\":[{\"automargin\":true,\"type\":\"pie\"}]},\"layout\":{\"autotypenumbers\":\"strict\",\"colorway\":[\"#636efa\",\"#EF553B\",\"#00cc96\",\"#ab63fa\",\"#FFA15A\",\"#19d3f3\",\"#FF6692\",\"#B6E880\",\"#FF97FF\",\"#FECB52\"],\"font\":{\"color\":\"#2a3f5f\"},\"hovermode\":\"closest\",\"hoverlabel\":{\"align\":\"left\"},\"paper_bgcolor\":\"white\",\"plot_bgcolor\":\"#E5ECF6\",\"polar\":{\"bgcolor\":\"#E5ECF6\",\"angularaxis\":{\"gridcolor\":\"white\",\"linecolor\":\"white\",\"ticks\":\"\"},\"radialaxis\":{\"gridcolor\":\"white\",\"linecolor\":\"white\",\"ticks\":\"\"}},\"ternary\":{\"bgcolor\":\"#E5ECF6\",\"aaxis\":{\"gridcolor\":\"white\",\"linecolor\":\"white\",\"ticks\":\"\"},\"baxis\":{\"gridcolor\":\"white\",\"linecolor\":\"white\",\"ticks\":\"\"},\"caxis\":{\"gridcolor\":\"white\",\"linecolor\":\"white\",\"ticks\":\"\"}},\"coloraxis\":{\"colorbar\":{\"outlinewidth\":0,\"ticks\":\"\"}},\"colorscale\":{\"sequential\":[[0.0,\"#0d0887\"],[0.1111111111111111,\"#46039f\"],[0.2222222222222222,\"#7201a8\"],[0.3333333333333333,\"#9c179e\"],[0.4444444444444444,\"#bd3786\"],[0.5555555555555556,\"#d8576b\"],[0.6666666666666666,\"#ed7953\"],[0.7777777777777778,\"#fb9f3a\"],[0.8888888888888888,\"#fdca26\"],[1.0,\"#f0f921\"]],\"sequentialminus\":[[0.0,\"#0d0887\"],[0.1111111111111111,\"#46039f\"],[0.2222222222222222,\"#7201a8\"],[0.3333333333333333,\"#9c179e\"],[0.4444444444444444,\"#bd3786\"],[0.5555555555555556,\"#d8576b\"],[0.6666666666666666,\"#ed7953\"],[0.7777777777777778,\"#fb9f3a\"],[0.8888888888888888,\"#fdca26\"],[1.0,\"#f0f921\"]],\"diverging\":[[0,\"#8e0152\"],[0.1,\"#c51b7d\"],[0.2,\"#de77ae\"],[0.3,\"#f1b6da\"],[0.4,\"#fde0ef\"],[0.5,\"#f7f7f7\"],[0.6,\"#e6f5d0\"],[0.7,\"#b8e186\"],[0.8,\"#7fbc41\"],[0.9,\"#4d9221\"],[1,\"#276419\"]]},\"xaxis\":{\"gridcolor\":\"white\",\"linecolor\":\"white\",\"ticks\":\"\",\"title\":{\"standoff\":15},\"zerolinecolor\":\"white\",\"automargin\":true,\"zerolinewidth\":2},\"yaxis\":{\"gridcolor\":\"white\",\"linecolor\":\"white\",\"ticks\":\"\",\"title\":{\"standoff\":15},\"zerolinecolor\":\"white\",\"automargin\":true,\"zerolinewidth\":2},\"scene\":{\"xaxis\":{\"backgroundcolor\":\"#E5ECF6\",\"gridcolor\":\"white\",\"linecolor\":\"white\",\"showbackground\":true,\"ticks\":\"\",\"zerolinecolor\":\"white\",\"gridwidth\":2},\"yaxis\":{\"backgroundcolor\":\"#E5ECF6\",\"gridcolor\":\"white\",\"linecolor\":\"white\",\"showbackground\":true,\"ticks\":\"\",\"zerolinecolor\":\"white\",\"gridwidth\":2},\"zaxis\":{\"backgroundcolor\":\"#E5ECF6\",\"gridcolor\":\"white\",\"linecolor\":\"white\",\"showbackground\":true,\"ticks\":\"\",\"zerolinecolor\":\"white\",\"gridwidth\":2}},\"shapedefaults\":{\"line\":{\"color\":\"#2a3f5f\"}},\"annotationdefaults\":{\"arrowcolor\":\"#2a3f5f\",\"arrowhead\":0,\"arrowwidth\":1},\"geo\":{\"bgcolor\":\"white\",\"landcolor\":\"#E5ECF6\",\"subunitcolor\":\"white\",\"showland\":true,\"showlakes\":true,\"lakecolor\":\"white\"},\"title\":{\"x\":0.05},\"mapbox\":{\"style\":\"light\"}}},\"xaxis\":{\"anchor\":\"y\",\"domain\":[0.0,1.0],\"title\":{\"text\":\"CoffeeHouse Visits\"},\"categoryorder\":\"array\",\"categoryarray\":[\"1~3\",\"less1\",\"4~8\",\"gt8\",\"never\"]},\"yaxis\":{\"anchor\":\"x\",\"domain\":[0.0,1.0],\"title\":{\"text\":\"Count\"}},\"legend\":{\"title\":{\"text\":\"Age\"},\"tracegroupgap\":0},\"margin\":{\"t\":60},\"barmode\":\"relative\",\"title\":{\"text\":\"Coffee coupon acceptance count by age & coffee house visits\"}},                        {\"responsive\": true}                    ).then(function(){\n",
              "                            \n",
              "var gd = document.getElementById('01e1cca3-26b4-47e4-897b-de8cdc9fd6cc');\n",
              "var x = new MutationObserver(function (mutations, observer) {{\n",
              "        var display = window.getComputedStyle(gd).display;\n",
              "        if (!display || display === 'none') {{\n",
              "            console.log([gd, 'removed!']);\n",
              "            Plotly.purge(gd);\n",
              "            observer.disconnect();\n",
              "        }}\n",
              "}});\n",
              "\n",
              "// Listen for the removal of the full notebook cells\n",
              "var notebookContainer = gd.closest('#notebook-container');\n",
              "if (notebookContainer) {{\n",
              "    x.observe(notebookContainer, {childList: true});\n",
              "}}\n",
              "\n",
              "// Listen for the clearing of the current output cell\n",
              "var outputEl = gd.closest('.output');\n",
              "if (outputEl) {{\n",
              "    x.observe(outputEl, {childList: true});\n",
              "}}\n",
              "\n",
              "                        })                };                            </script>        </div>\n",
              "</body>\n",
              "</html>"
            ]
          },
          "metadata": {}
        }
      ],
      "source": [
        "# 4 Compare the acceptance rate between drivers who go to a coffee more than once a month and are over the age of 25 to the all others. Is there a difference?\n",
        "\n",
        "data_coffee_sorted = data_coffee.query('Y==1')['CoffeeHouse'].value_counts().sort_values(ascending=False)\n",
        "fig = px.histogram(data_coffee.query('Y==1'),x='CoffeeHouse',color='age',category_orders={'CoffeeHouse':data_coffee_sorted.index})\n",
        "# Cutomize the plot\n",
        "fig.update_layout(title = 'Coffee coupon acceptance count by age & coffee house visits',\n",
        "                  xaxis_title = 'CoffeeHouse Visits',\n",
        "                  yaxis_title='Count',\n",
        "                  legend_title = 'Age')\n",
        "#Show the plot\n",
        "fig.show()"
      ]
    },
    {
      "cell_type": "code",
      "source": [
        "#Acceptance rate in % for driver those who went to a coffee more than once a month and age above 25\n",
        "over_25_age_1_more_coffee_accp = data_coffee.query('CoffeeHouse in (\"1~3\",\"4~8\",\"gt8\") and '\n",
        "                                            'age not in (\"21\",\"below21\")')['Y'].value_counts()\n",
        "over_25_age_1_more_coffee_accp_rate = calculate_accp_rate(over_25_age_1_more_coffee_accp)\n",
        "\n",
        "#Acceptance rate in % for driver those who went to a coffee more than once a month and age below 25\n",
        "below_25_age_1_more_coffee_accp = data_coffee.query('CoffeeHouse in (\"1~3\",\"4~8\",\"gt8\") and '\n",
        "                                            'age in (\"21\",\"below21\")')['Y'].value_counts()\n",
        "below_25_age_1_more_coffee_accp_rate = calculate_accp_rate(below_25_age_1_more_coffee_accp)\n",
        "\n",
        "#Acceptance rate in % for driver those who went to a coffee less than 1 times a month and age above 25\n",
        "over_25_age_below_1_coffee_accp = data_coffee.query('CoffeeHouse not in (\"1~3\",\"4~8\",\"gt8\") and age not in (\"21\",\"below21\")')['Y'].value_counts()\n",
        "over_25_age_below_1_fewer_coffee_accp_rate = calculate_accp_rate(over_25_age_below_1_coffee_accp)\n",
        "\n",
        "#Acceptance rate in % for driver those who went to a coffee less than 1 times a month and age below 25\n",
        "below_25_age_below_1_coffee_accp = data_coffee.query('CoffeeHouse not in (\"1~3\",\"4~8\",\"gt8\") and age in (\"21\",\"below21\")')['Y'].value_counts()\n",
        "below_25_age_below_1_coffee_accp_rate = calculate_accp_rate(below_25_age_below_1_coffee_accp)\n",
        "\n",
        "print(f\"{over_25_age_1_more_coffee_accp_rate}% coffee coupon accepted by driver over 25 and those who went to more than once to coffee house in a month.\")\n",
        "print(f\"{below_25_age_1_more_coffee_accp_rate}% coffee coupon accepted by driver less than 25 and those who went to more than once to a coffee house in a month.\")\n",
        "print(f\"{over_25_age_below_1_fewer_coffee_accp_rate}% coffee coupon accepted by driver over 25 and those who went to less than one or never to coffee house in a month.\")\n",
        "print(f\"{below_25_age_below_1_coffee_accp_rate}% coffee coupon accepted by driver less than 25 and those who went less than one or never to coffee house in a month.\")"
      ],
      "metadata": {
        "colab": {
          "base_uri": "https://localhost:8080/"
        },
        "id": "Fm7PtG4vi1oi",
        "outputId": "ee2ea478-784a-49f2-975e-88438825fb1b"
      },
      "execution_count": null,
      "outputs": [
        {
          "output_type": "stream",
          "name": "stdout",
          "text": [
            "63.84% coffee coupon accepted by driver over 25 and those who went to more than once to coffee house in a month.\n",
            "71.28% coffee coupon accepted by driver less than 25 and those who went to more than once to a coffee house in a month.\n",
            "34.81% coffee coupon accepted by driver over 25 and those who went to less than one or never to coffee house in a month.\n",
            "35.65% coffee coupon accepted by driver less than 25 and those who went less than one or never to coffee house in a month.\n"
          ]
        }
      ]
    },
    {
      "cell_type": "code",
      "source": [
        "#5 Use the same process to compare the acceptance rate between drivers who go to coffee house more than once a month and had passengers that were not a kid and had occupations other than farming, fishing, or forestry.\n",
        "data_coffee['passanger'].value_counts()"
      ],
      "metadata": {
        "colab": {
          "base_uri": "https://localhost:8080/"
        },
        "id": "vM4IAaQDmaYL",
        "outputId": "5f751b3a-e88e-4ba3-8c97-7dd4ef1f195e"
      },
      "execution_count": null,
      "outputs": [
        {
          "output_type": "execute_result",
          "data": {
            "text/plain": [
              "Alone        2256\n",
              "Friend(s)    1228\n",
              "Partner       305\n",
              "Kid(s)        207\n",
              "Name: passanger, dtype: int64"
            ]
          },
          "metadata": {},
          "execution_count": 30
        }
      ]
    },
    {
      "cell_type": "code",
      "source": [
        "# Occupation wise value count on coffee house coupon data frame\n",
        "data_coffee['occupation'].value_counts()"
      ],
      "metadata": {
        "colab": {
          "base_uri": "https://localhost:8080/"
        },
        "id": "APDSED9XmaJ9",
        "outputId": "4ae016ab-b391-4a1d-fa5b-96e75b965a04"
      },
      "execution_count": null,
      "outputs": [
        {
          "output_type": "execute_result",
          "data": {
            "text/plain": [
              "Unemployed                                   570\n",
              "Student                                      499\n",
              "Computer & Mathematical                      449\n",
              "Sales & Related                              355\n",
              "Management                                   298\n",
              "Education&Training&Library                   296\n",
              "Arts Design Entertainment Sports & Media     209\n",
              "Office & Administrative Support              197\n",
              "Retired                                      164\n",
              "Business & Financial                         146\n",
              "Food Preparation & Serving Related            83\n",
              "Transportation & Material Moving              76\n",
              "Community & Social Services                   74\n",
              "Healthcare Practitioners & Technical          74\n",
              "Legal                                         69\n",
              "Healthcare Support                            65\n",
              "Architecture & Engineering                    63\n",
              "Life Physical Social Science                  61\n",
              "Protective Service                            58\n",
              "Personal Care & Service                       50\n",
              "Construction & Extraction                     46\n",
              "Installation Maintenance & Repair             44\n",
              "Production Occupations                        28\n",
              "Building & Grounds Cleaning & Maintenance     11\n",
              "Farming Fishing & Forestry                    11\n",
              "Name: occupation, dtype: int64"
            ]
          },
          "metadata": {},
          "execution_count": 31
        }
      ]
    },
    {
      "cell_type": "code",
      "source": [
        "#Bar plot : Occupation wise coffee coupon acceptance count with out any kids passanger\n",
        "data_coffee.query('Y==1 and passanger !=\"kid(s)\"')['occupation'].value_counts().plot(kind='bar',rot=90, color ='green',legend= True)\n",
        "plt.title('Occupation wise coffee coupon acceptance count')\n",
        "plt.ylabel('Count')\n",
        "plt.show()"
      ],
      "metadata": {
        "colab": {
          "base_uri": "https://localhost:8080/",
          "height": 747
        },
        "id": "cOeGtIDLmZrI",
        "outputId": "a2d71ac3-e3ca-4e67-d50d-8663e98b75fd"
      },
      "execution_count": null,
      "outputs": [
        {
          "output_type": "display_data",
          "data": {
            "text/plain": [
              "<Figure size 640x480 with 1 Axes>"
            ],
            "image/png": "[encoded data removed]"
          },
          "metadata": {}
        }
      ]
    },
    {
      "cell_type": "code",
      "source": [
        "#Acceptance rate in % for driver those who went to a coffee house more than once a month and occupations other than farming, fishing, or forestry\n",
        "more_1_visit_other_occp_coffee_accp = data_coffee.query('CoffeeHouse in (\"1~3\",\"4~8\",\"gt8\") and '\n",
        "                                              'passanger != \"kid(s)\" and occupation != \"Farming Fishing & Forestry\"')['Y'].value_counts()\n",
        "more_1_visit_other_occp_coffee_accp_rate = calculate_accp_rate(more_1_visit_other_occp_coffee_accp)\n",
        "\n",
        "#Acceptance rate in % for driver those who went to a coffee house less than once a month and occupations other than farming, fishing, or forestry\n",
        "less_1_visit_other_occp_coffee_accp = data_coffee.query('CoffeeHouse not in (\"1~3\",\"4~8\",\"gt8\") and passanger != \"kid(s)\" and occupation != \"Farming Fishing & Forestry\"')['Y'].value_counts()\n",
        "less_1_visit_other_occp_coffee_accp_rate = calculate_accp_rate(less_1_visit_other_occp_coffee_accp)\n",
        "\n",
        "#Acceptance rate  for driver those who went to a coffee house more than once a month and occupations in farming, fishing, or forestry\n",
        "more_1_visit_farm_occp_coffee_accp = data_coffee.query('CoffeeHouse in (\"1~3\",\"4~8\",\"gt8\") and '\n",
        "                                              'passanger != \"kid(s)\"and occupation == \"Farming Fishing & Forestry\" ')['Y'].value_counts()\n",
        "\n",
        "#Acceptance rate in % for driver those who went to a coffee house less than once a month and occupations in farming, fishing, or forestry\n",
        "less_1_visit_farm_occp_coffee_accp = data_coffee.query('CoffeeHouse not in (\"1~3\",\"4~8\",\"gt8\") and '\n",
        "                                              'passanger != \"kid(s)\" and occupation == \"Farming Fishing & Forestry\"')['Y'].value_counts()\n",
        "less_1_visit_farm_occp_coffee_accp_rate = calculate_accp_rate(less_1_visit_farm_occp_coffee_accp)\n",
        "\n",
        "print(f\"{more_1_visit_other_occp_coffee_accp_rate}% coffee coupon accepted by driver those who went to more than once to coffee house in a month and in other than Farming Fishing & Forestry occupation.\")\n",
        "print(f\"{less_1_visit_other_occp_coffee_accp_rate}% coffee coupon accepted by driver those who went to less than once to coffee house in a month and in other than Farming Fishing & Forestry occupation.\")\n",
        "print(f\"{more_1_visit_farm_occp_coffee_accp.sum()} coffee coupon accepted by driver those who went to more than once to coffee house in a month and in Farming Fishing & Forestry occupation.\")\n",
        "print(f\"{less_1_visit_farm_occp_coffee_accp_rate}% coffee coupon accepted by driver those who went to less than once to coffee house in a month and in Farming Fishing & Forestry occupation.\")"
      ],
      "metadata": {
        "colab": {
          "base_uri": "https://localhost:8080/"
        },
        "id": "EMh5evi6o1xY",
        "outputId": "0a50dccf-cc1f-406d-cff1-01a6c44391a1"
      },
      "execution_count": null,
      "outputs": [
        {
          "output_type": "stream",
          "name": "stdout",
          "text": [
            "66.02% coffee coupon accepted by driver those who went to more than once to coffee house in a month and in other than Farming Fishing & Forestry occupation.\n",
            "34.9% coffee coupon accepted by driver those who went to less than once to coffee house in a month and in other than Farming Fishing & Forestry occupation.\n",
            "0 coffee coupon accepted by driver those who went to more than once to coffee house in a month and in Farming Fishing & Forestry occupation.\n",
            "54.55% coffee coupon accepted by driver those who went to less than once to coffee house in a month and in Farming Fishing & Forestry occupation.\n"
          ]
        }
      ]
    },
    {
      "cell_type": "code",
      "source": [
        "#6 Compare the acceptance rates between those drivers who:\n",
        "    #go to coffee house more than once a month, had passengers that were not a kid, and were not widowed OR\n",
        "    #go to coffee house more than once a month and are under the age of 30 OR\n",
        "    #go to cheap restaurants more than 4 times a month and income is less than 50K.\n",
        "\n",
        "#Acceptance rate in % for driver those who go to coffeehouse more than once a month, had passengers that were not a kid, and were not widowed\n",
        "more_1_visit_not_widow_coffee_accp = data_bar.query('CoffeeHouse in (\"1~3\",\"4~8\",\"gt8\") and '\n",
        "                                              'passanger != \"kid(s)\" and maritalStatus != \"Widowed\"')['Y'].value_counts()\n",
        "more_1_visit_not_widow_accp_coffee_rate = calculate_accp_rate(more_1_visit_not_widow_coffee_accp)\n",
        "\n",
        "#Acceptance rate in % for driver those who go to coffeehouse more than once a month and are under the age of 30\n",
        "more_1_visit_under_30_coffee_accp = data_bar.query('CoffeeHouse in (\"1~3\",\"4~8\",\"gt8\") and '\n",
        "                                              'age in (\"21\",\"below21\",\"26\")')['Y'].value_counts()\n",
        "more_1_visit_under_30_accp_rate = calculate_accp_rate(more_1_visit_under_30_coffee_accp)\n",
        "\n",
        "\n",
        "#Acceptance rate in % for driver those who go to cheap restaurants more than 4 times a month and income is less than 50K\n",
        "more_4__cheap_restaurants_visit_under_50k_coffee_accp = data_bar.query('RestaurantLessThan20 in (\"4~8\",\"gt8\") and '\n",
        "                                              'income in (\"$25000 - $37499\",\"$12500 - $24999\",\"$37500 - $49999\",\"Less than $12500\")')['Y'].value_counts()\n",
        "more_4__cheap_restaurants_visit_under_50k__coffee_accp_rate = calculate_accp_rate(more_4__cheap_restaurants_visit_under_50k_coffee_accp)\n",
        "\n",
        "\n",
        "print(f\"{more_1_visit_not_widow_accp_rate}% coffee coupon accepted by driver those who go to coffee house more than once a month, had passengers that were not a kid, and were not widowed.\")\n",
        "print(f\"{more_1_visit_under_30_accp_rate}% coffee coupon accepted by driver those who go to coffee house more than once a month and are under the age of 30.\")\n",
        "print(f\"{more_4__cheap_restaurants_visit_under_50k_accp_rate}% coffee coupon accepted by driver those who go to cheap restaurants more than 4 times a month and income is under 50K income.\")"
      ],
      "metadata": {
        "colab": {
          "base_uri": "https://localhost:8080/"
        },
        "id": "CXTJcywlpuPx",
        "outputId": "fc0fd606-d576-4b6b-afa1-4afa154e567a"
      },
      "execution_count": null,
      "outputs": [
        {
          "output_type": "stream",
          "name": "stdout",
          "text": [
            "68.79% coffee coupon accepted by driver those who go to coffee house more than once a month, had passengers that were not a kid, and were not widowed.\n",
            "54.8% coffee coupon accepted by driver those who go to coffee house more than once a month and are under the age of 30.\n",
            "45.35% coffee coupon accepted by driver those who go to cheap restaurants more than 4 times a month and income is under 50K income.\n"
          ]
        }
      ]
    },
    {
      "cell_type": "markdown",
      "source": [
        "**Hypothesis based on various exploration about coffee coupon acceptance**\n",
        "\n",
        "**Hypothesis 1**: Half of coffee coupons accepted by drivers, especially who frequent visitors of coffee house more than 3 times a month have a significantly higher coffee coupon acceptance rate than who visit less than 3 times a month to coffee house.\n",
        "\n",
        "**Hypothesis 2**: Habit of frequent visitors to coffee house have much influence than driver's age in coffee coupon acceptance rate.\n",
        "\n",
        "**Hypothesis 3**: Drivers who go to a coffee house more than once a month and have an occupation other than Farming, Fishing & Foresty have a significantly higher coffee coupon acceptance rate.\n",
        "\n",
        "**Hypothesis 4**: Drivers with kids passanger or their marital status doesn have much influence to coffee coupon acceptance rate.\n",
        "\n",
        "**Hypothesis 5**: Drivers go to cheap restuarant and income less than 50K has resonable influence to coffee coupon acceptance rate."
      ],
      "metadata": {
        "id": "wzKk_xvsJy32"
      }
    },
    {
      "cell_type": "code",
      "source": [],
      "metadata": {
        "id": "h1oWPDN7ptz3"
      },
      "execution_count": null,
      "outputs": []
    }
  ],
  "metadata": {
    "kernelspec": {
      "display_name": "Python 3",
      "language": "python",
      "name": "python3"
    },
    "language_info": {
      "codemirror_mode": {
        "name": "ipython",
        "version": 3
      },
      "file_extension": ".py",
      "mimetype": "text/x-python",
      "name": "python",
      "nbconvert_exporter": "python",
      "pygments_lexer": "ipython3",
      "version": "3.8.8"
    },
    "colab": {
      "provenance": [],
      "include_colab_link": true
    }
  },
  "nbformat": 4,
  "nbformat_minor": 0
}